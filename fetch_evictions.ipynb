{
 "cells": [
  {
   "cell_type": "code",
   "execution_count": 1,
   "metadata": {
    "collapsed": true
   },
   "outputs": [],
   "source": [
    "import csv\n",
    "import datetime\n",
    "import glob\n",
    "import grequests\n",
    "import io\n",
    "import numpy as np\n",
    "import os\n",
    "import pandas as pd\n",
    "import re\n",
    "import requests\n",
    "from requests.adapters import HTTPAdapter\n",
    "from requests.packages.urllib3.poolmanager import PoolManager\n",
    "import ssl\n",
    "import time\n",
    "import urllib.parse"
   ]
  },
  {
   "cell_type": "markdown",
   "metadata": {},
   "source": [
    "When the user query page loads its table, it sends XHRs to https://jpwebsite.harriscountytx.gov/PublicExtracts/GetExtractData .\n",
    "\n",
    "I set this routine up to use `grequests` (async) so I could fetch data in parallel. But (maybe just on Windows?) that led to very high rates of connection errors (SSL handshake failures), so I ended up cutting it down to 1-2 anyway.\n",
    "\n"
   ]
  },
  {
   "cell_type": "markdown",
   "metadata": {},
   "source": [
    "*Update*: found a fix, which I'm bringing in from the other notebook."
   ]
  },
  {
   "cell_type": "code",
   "execution_count": 5,
   "metadata": {
    "collapsed": true
   },
   "outputs": [],
   "source": [
    "# Work around some Windows TLS issues\n",
    "class MyAdapter(HTTPAdapter):\n",
    "    def init_poolmanager(self, connections, maxsize, block=False):\n",
    "        self.poolmanager = PoolManager(num_pools=connections,\n",
    "                                       maxsize=maxsize,\n",
    "                                       block=block,\n",
    "                                       ssl_version=ssl.PROTOCOL_TLSv1_2)"
   ]
  },
  {
   "cell_type": "code",
   "execution_count": 6,
   "metadata": {
    "collapsed": true
   },
   "outputs": [],
   "source": [
    "def makerequest(court, from_date, to_date, session):\n",
    "    \"\"\"Query the Houston Courts extract data service\n",
    "    \n",
    "    Returns a tuple of the header and the data\"\"\"\n",
    "    return grequests.get(\n",
    "        'https://jpwebsite.harriscountytx.gov/PublicExtracts/GetExtractData',\n",
    "        params={\n",
    "            'extractCaseType': 'CV', # Civil \n",
    "            'extract': 3, # Judgments entered\n",
    "            'court': court,\n",
    "            'casetype': 'EV', # Eviction\n",
    "            'format': 'csv',\n",
    "            'fdate': from_date.strftime('%m/%d/%Y'),\n",
    "            'tdate': to_date.strftime('%m/%d/%Y'),\n",
    "        },\n",
    "        stream=False,\n",
    "        session=session)"
   ]
  },
  {
   "cell_type": "markdown",
   "metadata": {},
   "source": [
    "Retrying the failures worked fine, so this little exception handler (factory) makes it easy to keep track of them."
   ]
  },
  {
   "cell_type": "code",
   "execution_count": 7,
   "metadata": {
    "collapsed": true
   },
   "outputs": [],
   "source": [
    "def makeexceptionhandler(eh_badreqs):\n",
    "    \"\"\"make an exception handler for a call to `grequests.map` that collects failed requests in the `eh_badreqs` list\n",
    "    \"\"\"\n",
    "    def exceptionhandler(req, exc):\n",
    "        print(\"Request failed:\", str(exc), req.kwargs['params'])\n",
    "        eh_badreqs.append(req.kwargs['params'])\n",
    "    return exceptionhandler"
   ]
  },
  {
   "cell_type": "markdown",
   "metadata": {},
   "source": [
    "And a helper to make adequately unique CSV file names"
   ]
  },
  {
   "cell_type": "code",
   "execution_count": 8,
   "metadata": {
    "collapsed": true,
    "scrolled": true
   },
   "outputs": [],
   "source": [
    "def urltocsvpath(template, url):\n",
    "    \"\"\"Parse the court and from-data from an API URL and use it to make a distinct CSV file name.\n",
    "    \"\"\"\n",
    "    pr = urllib.parse.parse_qs(url)\n",
    "    return template.format(\n",
    "        pr['court'][0],\n",
    "        re.sub('^(..)/(..)/(.+)$',r'\\3-\\1-\\2', pr['fdate'][0]))"
   ]
  },
  {
   "cell_type": "code",
   "execution_count": 10,
   "metadata": {},
   "outputs": [],
   "source": [
    "# interactive sanity check\n",
    "req = makerequest(305, datetime.date(2016,1,1), datetime.date(2016,1,31), None)\n",
    "r = grequests.map([req])"
   ]
  },
  {
   "cell_type": "code",
   "execution_count": 11,
   "metadata": {},
   "outputs": [
    {
     "data": {
      "text/plain": [
       "200"
      ]
     },
     "execution_count": 11,
     "metadata": {},
     "output_type": "execute_result"
    }
   ],
   "source": [
    "# interactive sanity check\n",
    "r[0].status_code"
   ]
  },
  {
   "cell_type": "code",
   "execution_count": 14,
   "metadata": {},
   "outputs": [
    {
     "data": {
      "text/plain": [
       "'tmp/tmp_court_305-2016-01-01.csv'"
      ]
     },
     "execution_count": 14,
     "metadata": {},
     "output_type": "execute_result"
    }
   ],
   "source": [
    "# interactive sanity check\n",
    "urltocsvpath('tmp/tmp_court_{}-{}.csv', r[0].request.url)"
   ]
  },
  {
   "cell_type": "markdown",
   "metadata": {},
   "source": [
    "Most of the actual control flow lives here; this sends the requests passed in via iterable `reqs` and write outputs to filenames generated using the routine above, and retries any failures."
   ]
  },
  {
   "cell_type": "code",
   "execution_count": 15,
   "metadata": {
    "collapsed": true
   },
   "outputs": [],
   "source": [
    "def send_requests(reqs, size=5, template='tmp/tmp_court_{}-{}.csv'):\n",
    "    eh_badreqs = True # hokey trick to bootstrap first loop iteration\n",
    "    while eh_badreqs:\n",
    "        eh_badreqs = []\n",
    "        exceptionhandler = makeexceptionhandler(eh_badreqs)\n",
    "        for resp in grequests.imap(reqs, exception_handler=exceptionhandler, size=size):\n",
    "            if resp.status_code == 200:\n",
    "                with open(urltocsvpath(template, resp.request.url), 'w') as out:\n",
    "                    out.write(resp.text.replace('\\n\\n','\\n'))\n",
    "            else:\n",
    "                print(\"Request failed:\", req.kwargs['params'])\n",
    "        print(\"\\n\\n*** Retrying\", len(eh_badreqs), \"bad requests\")\n",
    "        reqs = []\n",
    "        for params in eh_badreqs:\n",
    "            reqs.append(grequests.get('https://jpwebsite.harriscountytx.gov/PublicExtracts/GetExtractData', params=params))"
   ]
  },
  {
   "cell_type": "markdown",
   "metadata": {},
   "source": [
    "A few date manipulation routines to get month start/end dates for queries."
   ]
  },
  {
   "cell_type": "code",
   "execution_count": 16,
   "metadata": {
    "collapsed": true
   },
   "outputs": [],
   "source": [
    "def incmonth(date):\n",
    "    \"\"\"Returns a `datetime.date` fo the first day of the month after the input date's month.\n",
    "    \"\"\"\n",
    "    if date.month < 12:\n",
    "        return datetime.date(date.year, date.month+1, date.day)\n",
    "    else:\n",
    "        return datetime.date(date.year+1, 1, date.day)"
   ]
  },
  {
   "cell_type": "code",
   "execution_count": 17,
   "metadata": {
    "collapsed": true
   },
   "outputs": [],
   "source": [
    "def endofmonth(date):\n",
    "    \"\"\"Returns a `datetime.date` for the last day of the input date's month\n",
    "    \"\"\"\n",
    "    return incmonth(datetime.date(date.year, date.month, 1)) - datetime.timedelta(1)"
   ]
  },
  {
   "cell_type": "code",
   "execution_count": 18,
   "metadata": {
    "collapsed": true
   },
   "outputs": [],
   "source": [
    "def datebounds(\n",
    "    start=datetime.date(2011,1,1),\n",
    "    limit=datetime.datetime.now().date()\n",
    "):\n",
    "    \"\"\"Generator to  yield month startdate-enddate pairs contained in the range [start, limit).\n",
    "    The first pair will always start with `begin`, so may be less than a full month.\n",
    "    The last pair will always be for the month before `end`'s month.\n",
    "    \"\"\"\n",
    "    fromdate = start\n",
    "    todate = endofmonth(fromdate)\n",
    "    while fromdate < limit and todate < limit:\n",
    "        yield (fromdate, todate)\n",
    "        fromdate = incmonth(fromdate)\n",
    "        todate = endofmonth(fromdate)"
   ]
  },
  {
   "cell_type": "code",
   "execution_count": 19,
   "metadata": {},
   "outputs": [
    {
     "data": {
      "text/plain": [
       "[(datetime.date(2017, 1, 1), datetime.date(2017, 1, 31)),\n",
       " (datetime.date(2017, 2, 1), datetime.date(2017, 2, 28)),\n",
       " (datetime.date(2017, 3, 1), datetime.date(2017, 3, 31)),\n",
       " (datetime.date(2017, 4, 1), datetime.date(2017, 4, 30)),\n",
       " (datetime.date(2017, 5, 1), datetime.date(2017, 5, 31))]"
      ]
     },
     "execution_count": 19,
     "metadata": {},
     "output_type": "execute_result"
    }
   ],
   "source": [
    "# interactive sanity check\n",
    "[x for x in datebounds(datetime.date(2017,1,1))]"
   ]
  },
  {
   "cell_type": "markdown",
   "metadata": {},
   "source": [
    "So putting them together, we can make a generator to "
   ]
  },
  {
   "cell_type": "code",
   "execution_count": 20,
   "metadata": {
    "collapsed": true
   },
   "outputs": [],
   "source": [
    "def makerequests(session):\n",
    "    for frm,to in datebounds():\n",
    "        for court in [305, # Precinct 1, Place 1\n",
    "                      310, # Precinct 1, Place 2\n",
    "                      315, # Precinct 2, Place 1\n",
    "                      320, # Precinct 2, Place 2\n",
    "                      325, # Precinct 3, Place 1\n",
    "                      330, # Precinct 3, Place 2\n",
    "                      335, # Precinct 4, Place 1\n",
    "                      340, # Precinct 4, Place 2\n",
    "                      345, # Precinct 5, Place 1\n",
    "                      350, # Precinct 5, Place 2\n",
    "                      355, # Precinct 6, Place 1\n",
    "                      360, # Precinct 6, Place 2\n",
    "                      365, # Precinct 7, Place 1\n",
    "                      370, # Precinct 7, Place 2\n",
    "                      375, # Precinct 8, Place 1\n",
    "                      380, # Precinct 8, Place 2\n",
    "                     ]:\n",
    "            yield makerequest(court, frm, to, session)"
   ]
  },
  {
   "cell_type": "code",
   "execution_count": 22,
   "metadata": {},
   "outputs": [],
   "source": [
    "try:\n",
    "    os.mkdir('tmp')\n",
    "except:\n",
    "    pass"
   ]
  },
  {
   "cell_type": "code",
   "execution_count": 23,
   "metadata": {
    "scrolled": true
   },
   "outputs": [
    {
     "name": "stdout",
     "output_type": "stream",
     "text": [
      "\n",
      "\n",
      "*** Retrying 0 bad requests\n",
      "Wall time: 12min 15s\n"
     ]
    }
   ],
   "source": [
    "%%time\n",
    "s = requests.Session()\n",
    "s.mount('https://', MyAdapter())\n",
    "send_requests(makerequests(s), size=5, template='tmp/tmp_court_{}-{}.csv')"
   ]
  },
  {
   "cell_type": "markdown",
   "metadata": {},
   "source": [
    "Concatenate the temporary files"
   ]
  },
  {
   "cell_type": "code",
   "execution_count": 2,
   "metadata": {
    "collapsed": true
   },
   "outputs": [],
   "source": [
    "fns = glob.glob('tmp/tmp_c*.csv')\n",
    "wrote_hdr = False\n",
    "with open('evictions-20170431.csv', 'w') as out:\n",
    "    for fn in fns:\n",
    "        with open(fn) as f:\n",
    "            hdr = f.readline()\n",
    "            if not wrote_hdr:\n",
    "                out.write(hdr)\n",
    "                wrote_hdr = True\n",
    "            out.write(f.read())"
   ]
  },
  {
   "cell_type": "markdown",
   "metadata": {},
   "source": [
    "And load them into a `DataFrame`..."
   ]
  },
  {
   "cell_type": "code",
   "execution_count": 5,
   "metadata": {
    "scrolled": true
   },
   "outputs": [
    {
     "name": "stderr",
     "output_type": "stream",
     "text": [
      "S:\\programs\\x64\\Anaconda3\\lib\\site-packages\\IPython\\core\\interactiveshell.py:2683: DtypeWarning: Columns (5,31,32,33,34,35,36,37,38,39,40,41,42,43,50,51,52,53,54,55,56,57,58,65,66,67,68) have mixed types. Specify dtype option on import or set low_memory=False.\n",
      "  interactivity=interactivity, compiler=compiler, result=result)\n"
     ]
    }
   ],
   "source": [
    "df = pd.read_csv('evictions-20170431.csv')"
   ]
  },
  {
   "cell_type": "markdown",
   "metadata": {},
   "source": [
    "Argh! bad rows.  How many are there?"
   ]
  },
  {
   "cell_type": "code",
   "execution_count": 6,
   "metadata": {
    "collapsed": true,
    "scrolled": false
   },
   "outputs": [],
   "source": [
    "import itertools\n",
    "from pprint import pprint\n",
    "pr = 70\n",
    "for fn in glob.glob('tmp/tmp_c*.csv'):\n",
    "    with open(fn) as f:\n",
    "        rdr = csv.reader(f)\n",
    "        hdr = next(rdr)\n",
    "        if pr != len(hdr):\n",
    "            print(\"Cols changed from {} to {} for {}\".format(\n",
    "                pr,\n",
    "                len(hdr),\n",
    "                fn\n",
    "            ))\n",
    "        pr = len(hdr)\n",
    "        for row in rdr:\n",
    "            if len(row) and len(row) != len(hdr):\n",
    "                print('Got {} cols instead of {} at\\t vi +{} {}'.format(\n",
    "                    len(row),\n",
    "                    len(hdr),\n",
    "                    rdr.line_num,\n",
    "                    fn\n",
    "                ))\n",
    "                pprint(list(itertools.zip_longest(hdr,row, fillvalue='')))\n",
    "                print()"
   ]
  },
  {
   "cell_type": "markdown",
   "metadata": {},
   "source": [
    "We can omit these 39 by adding `error_bad_lines=False` to the `read_csv` arguments, but cleanin them up isn't too bad -- these are unescaped double quotes in defendant and plaintiff names, generally identifiable by the pattern  \n",
    "`/[^,\"]\"[^,\"]+\"[^,\"]/`"
   ]
  },
  {
   "cell_type": "code",
   "execution_count": null,
   "metadata": {
    "collapsed": true
   },
   "outputs": [],
   "source": [
    "!perl -pi -e 's/([^,\"])(\"[^,\"]+\")([^,\"])/\\1\"\\2\"\\3/g'  `egrep -l '[^,\"]\"[^,\"]+\"[^,\"]' tmp/tmp_court_*.csv"
   ]
  },
  {
   "cell_type": "code",
   "execution_count": 2,
   "metadata": {
    "collapsed": true
   },
   "outputs": [],
   "source": [
    "fns = glob.glob('tmp/tmp_c*.csv')\n",
    "wrote_hdr = False\n",
    "with open('evictions-20170431.csv', 'w') as out:\n",
    "    for fn in fns:\n",
    "        with open(fn) as f:\n",
    "            hdr = f.readline()\n",
    "            if not wrote_hdr:\n",
    "                out.write(hdr)\n",
    "                wrote_hdr = True\n",
    "            out.write(f.read())"
   ]
  },
  {
   "cell_type": "code",
   "execution_count": 17,
   "metadata": {},
   "outputs": [
    {
     "name": "stderr",
     "output_type": "stream",
     "text": [
      "S:\\programs\\x64\\Anaconda3\\lib\\site-packages\\IPython\\core\\interactiveshell.py:2683: DtypeWarning: Columns (5,31,32,33,34,35,36,37,38,39,40,41,42,43,50,51,52,53,54,55,56,57,58,65,66,67,68) have mixed types. Specify dtype option on import or set low_memory=False.\n",
      "  interactivity=interactivity, compiler=compiler, result=result)\n"
     ]
    }
   ],
   "source": [
    "df = pd.read_csv('evictions-20170431.csv', error_bad_lines=False)"
   ]
  },
  {
   "cell_type": "code",
   "execution_count": 19,
   "metadata": {
    "scrolled": true
   },
   "outputs": [
    {
     "data": {
      "text/plain": [
       "Index(['Nature of Claim ', 'Defendant Atty ZIP 1', 'Second Plaintiff Name',\n",
       "       'Second Plaintiff Addr Line 1 ', 'Second Plaintiff Addr Line 2',\n",
       "       'Second Plaintiff Addr City ', 'Second Plaintiff Addr State',\n",
       "       'Second Plaintiff Addr ZIP 1', 'Second Plaintiff Atty Name ',\n",
       "       'Second Plaintiff Atty Addr 1 ', 'Second Plaintiff Atty Addr 2 ',\n",
       "       'Second Plaintiff Atty City ', 'Second Plaintiff Atty State',\n",
       "       'Second Plaintiff Atty ZIP 1', 'Second Defendant Atty Name',\n",
       "       'Second Defendant Atty Addr 1', 'Second Defendant Atty Addr 2',\n",
       "       'Second Defendant Atty City', 'Second Defendant Atty State ',\n",
       "       'Second Defendant Atty ZIP 1 ', 'Next Hearing Desc',\n",
       "       'Next Hearing Date', 'Next Hearing Time', 'Judgment Amount',\n",
       "       'Attorney Fees', 'Court Costs', 'Pre-Judg Int Rate'],\n",
       "      dtype='object')"
      ]
     },
     "execution_count": 19,
     "metadata": {},
     "output_type": "execute_result"
    }
   ],
   "source": [
    "df.columns[[5,31,32,33,34,35,36,37,38,39,40,41,42,43,50,51,52,53,54,55,56,57,58,65,66,67,68]]"
   ]
  },
  {
   "cell_type": "markdown",
   "metadata": {},
   "source": [
    "Whoops, let's trim those column names' stray trailing spaces, and change the remaining spaces to dots"
   ]
  },
  {
   "cell_type": "code",
   "execution_count": 20,
   "metadata": {
    "collapsed": true
   },
   "outputs": [],
   "source": [
    "df.columns = df.columns.str.replace(' $','').str.replace(' ','.')"
   ]
  },
  {
   "cell_type": "code",
   "execution_count": 21,
   "metadata": {},
   "outputs": [
    {
     "data": {
      "text/plain": [
       "(207817, 70)"
      ]
     },
     "execution_count": 21,
     "metadata": {},
     "output_type": "execute_result"
    }
   ],
   "source": [
    "df.shape"
   ]
  },
  {
   "cell_type": "code",
   "execution_count": 29,
   "metadata": {
    "scrolled": true
   },
   "outputs": [
    {
     "data": {
      "text/html": [
       "<div>\n",
       "<style>\n",
       "    .dataframe thead tr:only-child th {\n",
       "        text-align: right;\n",
       "    }\n",
       "\n",
       "    .dataframe thead th {\n",
       "        text-align: left;\n",
       "    }\n",
       "\n",
       "    .dataframe tbody tr th {\n",
       "        vertical-align: top;\n",
       "    }\n",
       "</style>\n",
       "<table border=\"1\" class=\"dataframe\">\n",
       "  <thead>\n",
       "    <tr style=\"text-align: right;\">\n",
       "      <th></th>\n",
       "      <th>Judgment.Amount</th>\n",
       "      <th>Attorney.Fees</th>\n",
       "      <th>Court.Costs</th>\n",
       "      <th>Pre-Judg.Int.Rate</th>\n",
       "    </tr>\n",
       "  </thead>\n",
       "  <tbody>\n",
       "    <tr>\n",
       "      <th>count</th>\n",
       "      <td>207814.000000</td>\n",
       "      <td>207815.000000</td>\n",
       "      <td>207815.000000</td>\n",
       "      <td>207815.000000</td>\n",
       "    </tr>\n",
       "    <tr>\n",
       "      <th>mean</th>\n",
       "      <td>1101.093536</td>\n",
       "      <td>10.983601</td>\n",
       "      <td>103.843637</td>\n",
       "      <td>0.015911</td>\n",
       "    </tr>\n",
       "    <tr>\n",
       "      <th>std</th>\n",
       "      <td>2071.005644</td>\n",
       "      <td>126.553802</td>\n",
       "      <td>543.651985</td>\n",
       "      <td>2.997813</td>\n",
       "    </tr>\n",
       "    <tr>\n",
       "      <th>min</th>\n",
       "      <td>0.000000</td>\n",
       "      <td>0.000000</td>\n",
       "      <td>0.000000</td>\n",
       "      <td>0.000000</td>\n",
       "    </tr>\n",
       "    <tr>\n",
       "      <th>25%</th>\n",
       "      <td>231.000000</td>\n",
       "      <td>0.000000</td>\n",
       "      <td>101.000000</td>\n",
       "      <td>0.000000</td>\n",
       "    </tr>\n",
       "    <tr>\n",
       "      <th>50%</th>\n",
       "      <td>875.000000</td>\n",
       "      <td>0.000000</td>\n",
       "      <td>111.000000</td>\n",
       "      <td>0.000000</td>\n",
       "    </tr>\n",
       "    <tr>\n",
       "      <th>75%</th>\n",
       "      <td>1492.000000</td>\n",
       "      <td>0.000000</td>\n",
       "      <td>116.000000</td>\n",
       "      <td>0.000000</td>\n",
       "    </tr>\n",
       "    <tr>\n",
       "      <th>max</th>\n",
       "      <td>700337.000000</td>\n",
       "      <td>10000.000000</td>\n",
       "      <td>110613.000000</td>\n",
       "      <td>1225.000000</td>\n",
       "    </tr>\n",
       "  </tbody>\n",
       "</table>\n",
       "</div>"
      ],
      "text/plain": [
       "       Judgment.Amount  Attorney.Fees    Court.Costs  Pre-Judg.Int.Rate\n",
       "count    207814.000000  207815.000000  207815.000000      207815.000000\n",
       "mean       1101.093536      10.983601     103.843637           0.015911\n",
       "std        2071.005644     126.553802     543.651985           2.997813\n",
       "min           0.000000       0.000000       0.000000           0.000000\n",
       "25%         231.000000       0.000000     101.000000           0.000000\n",
       "50%         875.000000       0.000000     111.000000           0.000000\n",
       "75%        1492.000000       0.000000     116.000000           0.000000\n",
       "max      700337.000000   10000.000000  110613.000000        1225.000000"
      ]
     },
     "execution_count": 29,
     "metadata": {},
     "output_type": "execute_result"
    }
   ],
   "source": [
    "df.describe()"
   ]
  },
  {
   "cell_type": "code",
   "execution_count": 6,
   "metadata": {
    "collapsed": true
   },
   "outputs": [],
   "source": [
    "def date_opt(val):\n",
    "    try:\n",
    "        return pd.to_datetime(val)\n",
    "    except ValueError:\n",
    "        pass\n",
    "def time_opt(val):\n",
    "    try:\n",
    "        return pd.Timedelta(val)\n",
    "    except ValueError:\n",
    "        pass\n",
    "def float_opt(val):\n",
    "    try:\n",
    "        return float(val)\n",
    "    except ValueError:\n",
    "        return float('nan')"
   ]
  },
  {
   "cell_type": "code",
   "execution_count": 27,
   "metadata": {},
   "outputs": [
    {
     "name": "stderr",
     "output_type": "stream",
     "text": [
      "<string>:2: DtypeWarning: Columns (5,6,32,33,34,35,36,38,39,40,41,42,50,51,52,53,54,56,69) have mixed types. Specify dtype option on import or set low_memory=False.\n"
     ]
    },
    {
     "name": "stdout",
     "output_type": "stream",
     "text": [
      "Wall time: 3min 9s\n"
     ]
    }
   ],
   "source": [
    "%%time\n",
    "df = pd.read_csv(\n",
    "    'evictions-20170431.csv',\n",
    "    error_bad_lines=False,\n",
    "    converters={\n",
    "        'Case.File.Date':\tdate_opt,\n",
    "        'Claim.Amount':\tfloat_opt,\n",
    "        'Plaintiff.Addr.ZIP.1':\tstr,\n",
    "        'Plaintiff.Atty.ZIP.1':\tstr,\n",
    "        'Defendant.Addr.ZIP.1':\tstr,\n",
    "        'Defendant.Atty.ZIP.1':\tstr,\n",
    "        'Second.Plaintiff.Addr.ZIP.1':\tstr,\n",
    "        'Second.Plaintiff.Atty.ZIP.1':\tstr,\n",
    "        'Second.Defendant.Addr.ZIP.1':\tstr,\n",
    "        'Second.Defendant.Atty.ZIP.1':\tstr,\n",
    "        'Next.Hearing.Date':\tdate_opt,\n",
    "        'Next.Hearing.Time':\ttime_opt,\n",
    "        'Disposition.Date':\tdate_opt,\n",
    "        'Judgment.Date':\tdate_opt,\n",
    "        'Judgment.Amount':\tfloat_opt,\n",
    "        'Attorney.Fees':\tfloat_opt,\n",
    "        'Court.Costs':\tfloat_opt,\n",
    "        'Pre-Judg.Int.Rate':\tfloat_opt,\n",
    "        'Post-Judg.Int.Rate':\tfloat_opt,\n",
    "    },\n",
    "    names=df.columns,\n",
    "    skiprows=1\n",
    ")"
   ]
  },
  {
   "cell_type": "markdown",
   "metadata": {},
   "source": [
    "Oh, let's fix the dtypes for fun"
   ]
  },
  {
   "cell_type": "code",
   "execution_count": 31,
   "metadata": {
    "scrolled": true
   },
   "outputs": [
    {
     "data": {
      "text/plain": [
       "Counter({nan: 139426,\n",
       "         'Non-suited or Dismissed by Plaintiff (OCA)': 87,\n",
       "         'All Other Dispositions Except Dismissal (OCA)': 2,\n",
       "         'Dismissed for Want of Prosecution (OCA)': 54,\n",
       "         'All Other Dispositions (OCA)': 2910,\n",
       "         'Trial or Hearing by Judge (OCA)': 24502,\n",
       "         'Trial by Jury (OCA)': 42,\n",
       "         'Default Judgment (OCA)': 40157,\n",
       "         'Agreed Judgment (OCA)': 637})"
      ]
     },
     "execution_count": 31,
     "metadata": {},
     "output_type": "execute_result"
    }
   ],
   "source": [
    "from collections import Counter\n",
    "Counter(df.loc[:,'Disposition.Desc'])"
   ]
  },
  {
   "cell_type": "code",
   "execution_count": 33,
   "metadata": {
    "scrolled": true
   },
   "outputs": [
    {
     "data": {
      "text/plain": [
       "Unnamed: 0                        0\n",
       "Case.Number                      12\n",
       "Case.Type                         2\n",
       "Case.Subtype                      8\n",
       "Case.File.Date                    0\n",
       "Style.Of.Case                   383\n",
       "Nature.of.Claim                  38\n",
       "Claim.Amount                      0\n",
       "Case.Status                      10\n",
       "Plaintiff.Name                  298\n",
       "Plaintiff.Addr.Line.1            53\n",
       "Plaintiff.Addr.Line.2            26\n",
       "Plaintiff.Addr.City              20\n",
       "Plaintiff.Addr.State              2\n",
       "Plaintiff.Addr.ZIP.1             10\n",
       "Plaintiff.Atty.Name              31\n",
       "Plaintiff.Atty.Addr.1            38\n",
       "Plaintiff.Atty.Addr.2            25\n",
       "Plaintiff.Atty.City              15\n",
       "Plaintiff.Atty.State              7\n",
       "Plaintiff.Atty.ZIP.1             10\n",
       "Defendant.Name                  145\n",
       "Defendant.Addr.Line.1            64\n",
       "Defendant.Addr.Line.2            39\n",
       "Defendant.Addr.City              16\n",
       "Defendant.Addr.State              7\n",
       "Defendant.Addr.ZIP.1             10\n",
       "Defendant.Atty.Name              30\n",
       "Defendant.Atty.Addr.1            36\n",
       "Defendant.Atty.Addr.2            23\n",
       "Defendant.Atty.City              13\n",
       "Defendant.Atty.State              2\n",
       "Defendant.Atty.ZIP.1             10\n",
       "Second.Plaintiff.Name            88\n",
       "Second.Plaintiff.Addr.Line.1     38\n",
       "Second.Plaintiff.Addr.Line.2     24\n",
       "Second.Plaintiff.Addr.City       16\n",
       "Second.Plaintiff.Addr.State       2\n",
       "Second.Plaintiff.Addr.ZIP.1      10\n",
       "Second.Plaintiff.Atty.Name       27\n",
       "Second.Plaintiff.Atty.Addr.1     24\n",
       "Second.Plaintiff.Atty.Addr.2     17\n",
       "Second.Plaintiff.Atty.City       13\n",
       "Second.Plaintiff.Atty.State       2\n",
       "Second.Plaintiff.Atty.ZIP.1      10\n",
       "Second.Defendant.Name           109\n",
       "Second.Defendant.Addr.Line.1     54\n",
       "Second.Defendant.Addr.Line.2     25\n",
       "Second.Defendant.Addr.City       16\n",
       "Second.Defendant.Addr.State       7\n",
       "Second.Defendant.Addr.ZIP.1      10\n",
       "Second.Defendant.Atty.Name       26\n",
       "Second.Defendant.Atty.Addr.1     25\n",
       "Second.Defendant.Atty.Addr.2     14\n",
       "Second.Defendant.Atty.City       13\n",
       "Second.Defendant.Atty.State       2\n",
       "Second.Defendant.Atty.ZIP.1      10\n",
       "Next.Hearing.Desc                35\n",
       "Next.Hearing.Date                 0\n",
       "Next.Hearing.Time                 0\n",
       "Disposition.Desc                 45\n",
       "Disposition.Date                  0\n",
       "Judgment.Text                    16\n",
       "Judgment.Date                     0\n",
       "Judgment.In.Favor.Of            298\n",
       "Judgment.Against                275\n",
       "Judgment.Amount                   0\n",
       "Attorney.Fees                     0\n",
       "Court.Costs                       0\n",
       "Pre-Judg.Int.Rate                 0\n",
       "Post-Judg.Int.Rate                0\n",
       "dtype: int64"
      ]
     },
     "execution_count": 33,
     "metadata": {},
     "output_type": "execute_result"
    }
   ],
   "source": [
    "pd.options.display.max_rows = None\n",
    "df2.apply(lambda x: x.apply(lambda y: isinstance(y,str) and len(y) or 0), axis=0).max(axis=0)"
   ]
  },
  {
   "cell_type": "code",
   "execution_count": 23,
   "metadata": {},
   "outputs": [
    {
     "name": "stdout",
     "output_type": "stream",
     "text": [
      "Wall time: 1min 14s\n"
     ]
    }
   ],
   "source": [
    "%%time\n",
    "df2 = pd.read_csv(\n",
    "    'evictions-20170431-clean.csv',\n",
    "    dtype = {\n",
    "        'Case.Number': np.str,\n",
    "        'Case.Type': np.str,\n",
    "        'Case.Subtype': np.str,\n",
    "        'Style.Of.Case': np.str,\n",
    "        'Nature.of.Claim': np.str,\n",
    "        'Case.Status': np.str,\n",
    "        'Plaintiff.Name': np.str,\n",
    "        'Plaintiff.Addr.Line.1': np.str,\n",
    "        'Plaintiff.Addr.Line.2': np.str,\n",
    "        'Plaintiff.Addr.City': np.str,\n",
    "        'Plaintiff.Addr.State': np.str,\n",
    "        'Plaintiff.Addr.ZIP.1': np.str,\n",
    "        'Plaintiff.Atty.Name': np.str,\n",
    "        'Plaintiff.Atty.Addr.1': np.str,\n",
    "        'Plaintiff.Atty.Addr.2': np.str,\n",
    "        'Plaintiff.Atty.City': np.str,\n",
    "        'Plaintiff.Atty.State': np.str,\n",
    "        'Plaintiff.Atty.ZIP.1': np.str,\n",
    "        'Defendant.Name': np.str,\n",
    "        'Defendant.Addr.Line.1': np.str,\n",
    "        'Defendant.Addr.Line.2': np.str,\n",
    "        'Defendant.Addr.City': np.str,\n",
    "        'Defendant.Addr.State': np.str,\n",
    "        'Defendant.Addr.ZIP.1': np.str,\n",
    "        'Defendant.Atty.Name': np.str,\n",
    "        'Defendant.Atty.Addr.1': np.str,\n",
    "        'Defendant.Atty.Addr.2': np.str,\n",
    "        'Defendant.Atty.City': np.str,\n",
    "        'Defendant.Atty.State': np.str,\n",
    "        'Defendant.Atty.ZIP.1': np.str,\n",
    "        'Second.Plaintiff.Name': np.str,\n",
    "        'Second.Plaintiff.Addr.Line.1': np.str,\n",
    "        'Second.Plaintiff.Addr.Line.2': np.str,\n",
    "        'Second.Plaintiff.Addr.City': np.str,\n",
    "        'Second.Plaintiff.Addr.State': np.str,\n",
    "        'Second.Plaintiff.Addr.ZIP.1': np.str,\n",
    "        'Second.Plaintiff.Atty.Name': np.str,\n",
    "        'Second.Plaintiff.Atty.Addr.1': np.str,\n",
    "        'Second.Plaintiff.Atty.Addr.2': np.str,\n",
    "        'Second.Plaintiff.Atty.City': np.str,\n",
    "        'Second.Plaintiff.Atty.State': np.str,\n",
    "        'Second.Plaintiff.Atty.ZIP.1': np.str,\n",
    "        'Second.Defendant.Name': np.str,\n",
    "        'Second.Defendant.Addr.Line.1': np.str,\n",
    "        'Second.Defendant.Addr.Line.2': np.str,\n",
    "        'Second.Defendant.Addr.City': np.str,\n",
    "        'Second.Defendant.Addr.State': np.str,\n",
    "        'Second.Defendant.Addr.ZIP.1': np.str,\n",
    "        'Second.Defendant.Atty.Name': np.str,\n",
    "        'Second.Defendant.Atty.Addr.1': np.str,\n",
    "        'Second.Defendant.Atty.Addr.2': np.str,\n",
    "        'Second.Defendant.Atty.City': np.str,\n",
    "        'Second.Defendant.Atty.State': np.str,\n",
    "        'Second.Defendant.Atty.ZIP.1': np.str,\n",
    "        'Next.Hearing.Desc': np.str,\n",
    "        'Disposition.Desc': np.str,\n",
    "        'Judgment.Text': np.str,\n",
    "        'Judgment.In.Favor.Of': np.str,\n",
    "        'Judgment.Against': np.str\n",
    "    },\n",
    "    converters = {\n",
    "        'Case.File.Date': date_opt,\n",
    "        'Claim.Amount': float_opt,\n",
    "        'Next.Hearing.Date': date_opt,\n",
    "        'Next.Hearing.Time': time_opt,\n",
    "        'Disposition.Date': date_opt,\n",
    "        'Judgment.Date': date_opt,\n",
    "        'Judgment.Amount': float_opt,\n",
    "        'Attorney.Fees': float_opt,\n",
    "        'Court.Costs': float_opt,\n",
    "        'Pre-Judg.Int.Rate': float_opt,\n",
    "        'Post-Judg.Int.Rate': float_opt\n",
    "    }\n",
    ")"
   ]
  },
  {
   "cell_type": "code",
   "execution_count": 8,
   "metadata": {
    "collapsed": true
   },
   "outputs": [],
   "source": [
    "if 'Unnamed: 0' in df2.columns:\n",
    "    df2.drop('Unnamed: 0', axis=1, inplace=True)"
   ]
  },
  {
   "cell_type": "code",
   "execution_count": 45,
   "metadata": {
    "collapsed": true
   },
   "outputs": [],
   "source": [
    "df2.to_csv('evictions-20170431-final.csv', encoding='utf-8')"
   ]
  },
  {
   "cell_type": "code",
   "execution_count": 78,
   "metadata": {},
   "outputs": [
    {
     "data": {
      "text/plain": [
       "205152"
      ]
     },
     "execution_count": 78,
     "metadata": {},
     "output_type": "execute_result"
    }
   ],
   "source": [
    "(df2['Judgment.In.Favor.Of'] == df2['Plaintiff.Name']).sum()"
   ]
  },
  {
   "cell_type": "code",
   "execution_count": 79,
   "metadata": {},
   "outputs": [
    {
     "data": {
      "text/plain": [
       "2665"
      ]
     },
     "execution_count": 79,
     "metadata": {},
     "output_type": "execute_result"
    }
   ],
   "source": [
    "(df2['Judgment.In.Favor.Of'] != df2['Plaintiff.Name']).sum()"
   ]
  },
  {
   "cell_type": "code",
   "execution_count": 89,
   "metadata": {
    "collapsed": true
   },
   "outputs": [],
   "source": [
    "out=df2.loc[\n",
    "    df2['Judgment.In.Favor.Of'] == df2['Plaintiff.Name'],\n",
    "        ['Case.File.Date',\n",
    "         'Judgment.Amount',\n",
    "         'Defendant.Addr.Line.1', 'Defendant.Addr.City', 'Defendant.Addr.ZIP.1']]"
   ]
  },
  {
   "cell_type": "code",
   "execution_count": null,
   "metadata": {
    "collapsed": true
   },
   "outputs": [],
   "source": [
    "year=out['Case.File.Date'].dt.year\n",
    "quarter=out['Case.File.Date'].dt.quarter\n"
   ]
  },
  {
   "cell_type": "code",
   "execution_count": 151,
   "metadata": {
    "scrolled": false
   },
   "outputs": [
    {
     "data": {
      "application/javascript": [
       "/* Put everything inside the global mpl namespace */\n",
       "window.mpl = {};\n",
       "\n",
       "\n",
       "mpl.get_websocket_type = function() {\n",
       "    if (typeof(WebSocket) !== 'undefined') {\n",
       "        return WebSocket;\n",
       "    } else if (typeof(MozWebSocket) !== 'undefined') {\n",
       "        return MozWebSocket;\n",
       "    } else {\n",
       "        alert('Your browser does not have WebSocket support.' +\n",
       "              'Please try Chrome, Safari or Firefox ≥ 6. ' +\n",
       "              'Firefox 4 and 5 are also supported but you ' +\n",
       "              'have to enable WebSockets in about:config.');\n",
       "    };\n",
       "}\n",
       "\n",
       "mpl.figure = function(figure_id, websocket, ondownload, parent_element) {\n",
       "    this.id = figure_id;\n",
       "\n",
       "    this.ws = websocket;\n",
       "\n",
       "    this.supports_binary = (this.ws.binaryType != undefined);\n",
       "\n",
       "    if (!this.supports_binary) {\n",
       "        var warnings = document.getElementById(\"mpl-warnings\");\n",
       "        if (warnings) {\n",
       "            warnings.style.display = 'block';\n",
       "            warnings.textContent = (\n",
       "                \"This browser does not support binary websocket messages. \" +\n",
       "                    \"Performance may be slow.\");\n",
       "        }\n",
       "    }\n",
       "\n",
       "    this.imageObj = new Image();\n",
       "\n",
       "    this.context = undefined;\n",
       "    this.message = undefined;\n",
       "    this.canvas = undefined;\n",
       "    this.rubberband_canvas = undefined;\n",
       "    this.rubberband_context = undefined;\n",
       "    this.format_dropdown = undefined;\n",
       "\n",
       "    this.image_mode = 'full';\n",
       "\n",
       "    this.root = $('<div/>');\n",
       "    this._root_extra_style(this.root)\n",
       "    this.root.attr('style', 'display: inline-block');\n",
       "\n",
       "    $(parent_element).append(this.root);\n",
       "\n",
       "    this._init_header(this);\n",
       "    this._init_canvas(this);\n",
       "    this._init_toolbar(this);\n",
       "\n",
       "    var fig = this;\n",
       "\n",
       "    this.waiting = false;\n",
       "\n",
       "    this.ws.onopen =  function () {\n",
       "            fig.send_message(\"supports_binary\", {value: fig.supports_binary});\n",
       "            fig.send_message(\"send_image_mode\", {});\n",
       "            if (mpl.ratio != 1) {\n",
       "                fig.send_message(\"set_dpi_ratio\", {'dpi_ratio': mpl.ratio});\n",
       "            }\n",
       "            fig.send_message(\"refresh\", {});\n",
       "        }\n",
       "\n",
       "    this.imageObj.onload = function() {\n",
       "            if (fig.image_mode == 'full') {\n",
       "                // Full images could contain transparency (where diff images\n",
       "                // almost always do), so we need to clear the canvas so that\n",
       "                // there is no ghosting.\n",
       "                fig.context.clearRect(0, 0, fig.canvas.width, fig.canvas.height);\n",
       "            }\n",
       "            fig.context.drawImage(fig.imageObj, 0, 0);\n",
       "        };\n",
       "\n",
       "    this.imageObj.onunload = function() {\n",
       "        this.ws.close();\n",
       "    }\n",
       "\n",
       "    this.ws.onmessage = this._make_on_message_function(this);\n",
       "\n",
       "    this.ondownload = ondownload;\n",
       "}\n",
       "\n",
       "mpl.figure.prototype._init_header = function() {\n",
       "    var titlebar = $(\n",
       "        '<div class=\"ui-dialog-titlebar ui-widget-header ui-corner-all ' +\n",
       "        'ui-helper-clearfix\"/>');\n",
       "    var titletext = $(\n",
       "        '<div class=\"ui-dialog-title\" style=\"width: 100%; ' +\n",
       "        'text-align: center; padding: 3px;\"/>');\n",
       "    titlebar.append(titletext)\n",
       "    this.root.append(titlebar);\n",
       "    this.header = titletext[0];\n",
       "}\n",
       "\n",
       "\n",
       "\n",
       "mpl.figure.prototype._canvas_extra_style = function(canvas_div) {\n",
       "\n",
       "}\n",
       "\n",
       "\n",
       "mpl.figure.prototype._root_extra_style = function(canvas_div) {\n",
       "\n",
       "}\n",
       "\n",
       "mpl.figure.prototype._init_canvas = function() {\n",
       "    var fig = this;\n",
       "\n",
       "    var canvas_div = $('<div/>');\n",
       "\n",
       "    canvas_div.attr('style', 'position: relative; clear: both; outline: 0');\n",
       "\n",
       "    function canvas_keyboard_event(event) {\n",
       "        return fig.key_event(event, event['data']);\n",
       "    }\n",
       "\n",
       "    canvas_div.keydown('key_press', canvas_keyboard_event);\n",
       "    canvas_div.keyup('key_release', canvas_keyboard_event);\n",
       "    this.canvas_div = canvas_div\n",
       "    this._canvas_extra_style(canvas_div)\n",
       "    this.root.append(canvas_div);\n",
       "\n",
       "    var canvas = $('<canvas/>');\n",
       "    canvas.addClass('mpl-canvas');\n",
       "    canvas.attr('style', \"left: 0; top: 0; z-index: 0; outline: 0\")\n",
       "\n",
       "    this.canvas = canvas[0];\n",
       "    this.context = canvas[0].getContext(\"2d\");\n",
       "\n",
       "    var backingStore = this.context.backingStorePixelRatio ||\n",
       "\tthis.context.webkitBackingStorePixelRatio ||\n",
       "\tthis.context.mozBackingStorePixelRatio ||\n",
       "\tthis.context.msBackingStorePixelRatio ||\n",
       "\tthis.context.oBackingStorePixelRatio ||\n",
       "\tthis.context.backingStorePixelRatio || 1;\n",
       "\n",
       "    mpl.ratio = (window.devicePixelRatio || 1) / backingStore;\n",
       "\n",
       "    var rubberband = $('<canvas/>');\n",
       "    rubberband.attr('style', \"position: absolute; left: 0; top: 0; z-index: 1;\")\n",
       "\n",
       "    var pass_mouse_events = true;\n",
       "\n",
       "    canvas_div.resizable({\n",
       "        start: function(event, ui) {\n",
       "            pass_mouse_events = false;\n",
       "        },\n",
       "        resize: function(event, ui) {\n",
       "            fig.request_resize(ui.size.width, ui.size.height);\n",
       "        },\n",
       "        stop: function(event, ui) {\n",
       "            pass_mouse_events = true;\n",
       "            fig.request_resize(ui.size.width, ui.size.height);\n",
       "        },\n",
       "    });\n",
       "\n",
       "    function mouse_event_fn(event) {\n",
       "        if (pass_mouse_events)\n",
       "            return fig.mouse_event(event, event['data']);\n",
       "    }\n",
       "\n",
       "    rubberband.mousedown('button_press', mouse_event_fn);\n",
       "    rubberband.mouseup('button_release', mouse_event_fn);\n",
       "    // Throttle sequential mouse events to 1 every 20ms.\n",
       "    rubberband.mousemove('motion_notify', mouse_event_fn);\n",
       "\n",
       "    rubberband.mouseenter('figure_enter', mouse_event_fn);\n",
       "    rubberband.mouseleave('figure_leave', mouse_event_fn);\n",
       "\n",
       "    canvas_div.on(\"wheel\", function (event) {\n",
       "        event = event.originalEvent;\n",
       "        event['data'] = 'scroll'\n",
       "        if (event.deltaY < 0) {\n",
       "            event.step = 1;\n",
       "        } else {\n",
       "            event.step = -1;\n",
       "        }\n",
       "        mouse_event_fn(event);\n",
       "    });\n",
       "\n",
       "    canvas_div.append(canvas);\n",
       "    canvas_div.append(rubberband);\n",
       "\n",
       "    this.rubberband = rubberband;\n",
       "    this.rubberband_canvas = rubberband[0];\n",
       "    this.rubberband_context = rubberband[0].getContext(\"2d\");\n",
       "    this.rubberband_context.strokeStyle = \"#000000\";\n",
       "\n",
       "    this._resize_canvas = function(width, height) {\n",
       "        // Keep the size of the canvas, canvas container, and rubber band\n",
       "        // canvas in synch.\n",
       "        canvas_div.css('width', width)\n",
       "        canvas_div.css('height', height)\n",
       "\n",
       "        canvas.attr('width', width * mpl.ratio);\n",
       "        canvas.attr('height', height * mpl.ratio);\n",
       "        canvas.attr('style', 'width: ' + width + 'px; height: ' + height + 'px;');\n",
       "\n",
       "        rubberband.attr('width', width);\n",
       "        rubberband.attr('height', height);\n",
       "    }\n",
       "\n",
       "    // Set the figure to an initial 600x600px, this will subsequently be updated\n",
       "    // upon first draw.\n",
       "    this._resize_canvas(600, 600);\n",
       "\n",
       "    // Disable right mouse context menu.\n",
       "    $(this.rubberband_canvas).bind(\"contextmenu\",function(e){\n",
       "        return false;\n",
       "    });\n",
       "\n",
       "    function set_focus () {\n",
       "        canvas.focus();\n",
       "        canvas_div.focus();\n",
       "    }\n",
       "\n",
       "    window.setTimeout(set_focus, 100);\n",
       "}\n",
       "\n",
       "mpl.figure.prototype._init_toolbar = function() {\n",
       "    var fig = this;\n",
       "\n",
       "    var nav_element = $('<div/>')\n",
       "    nav_element.attr('style', 'width: 100%');\n",
       "    this.root.append(nav_element);\n",
       "\n",
       "    // Define a callback function for later on.\n",
       "    function toolbar_event(event) {\n",
       "        return fig.toolbar_button_onclick(event['data']);\n",
       "    }\n",
       "    function toolbar_mouse_event(event) {\n",
       "        return fig.toolbar_button_onmouseover(event['data']);\n",
       "    }\n",
       "\n",
       "    for(var toolbar_ind in mpl.toolbar_items) {\n",
       "        var name = mpl.toolbar_items[toolbar_ind][0];\n",
       "        var tooltip = mpl.toolbar_items[toolbar_ind][1];\n",
       "        var image = mpl.toolbar_items[toolbar_ind][2];\n",
       "        var method_name = mpl.toolbar_items[toolbar_ind][3];\n",
       "\n",
       "        if (!name) {\n",
       "            // put a spacer in here.\n",
       "            continue;\n",
       "        }\n",
       "        var button = $('<button/>');\n",
       "        button.addClass('ui-button ui-widget ui-state-default ui-corner-all ' +\n",
       "                        'ui-button-icon-only');\n",
       "        button.attr('role', 'button');\n",
       "        button.attr('aria-disabled', 'false');\n",
       "        button.click(method_name, toolbar_event);\n",
       "        button.mouseover(tooltip, toolbar_mouse_event);\n",
       "\n",
       "        var icon_img = $('<span/>');\n",
       "        icon_img.addClass('ui-button-icon-primary ui-icon');\n",
       "        icon_img.addClass(image);\n",
       "        icon_img.addClass('ui-corner-all');\n",
       "\n",
       "        var tooltip_span = $('<span/>');\n",
       "        tooltip_span.addClass('ui-button-text');\n",
       "        tooltip_span.html(tooltip);\n",
       "\n",
       "        button.append(icon_img);\n",
       "        button.append(tooltip_span);\n",
       "\n",
       "        nav_element.append(button);\n",
       "    }\n",
       "\n",
       "    var fmt_picker_span = $('<span/>');\n",
       "\n",
       "    var fmt_picker = $('<select/>');\n",
       "    fmt_picker.addClass('mpl-toolbar-option ui-widget ui-widget-content');\n",
       "    fmt_picker_span.append(fmt_picker);\n",
       "    nav_element.append(fmt_picker_span);\n",
       "    this.format_dropdown = fmt_picker[0];\n",
       "\n",
       "    for (var ind in mpl.extensions) {\n",
       "        var fmt = mpl.extensions[ind];\n",
       "        var option = $(\n",
       "            '<option/>', {selected: fmt === mpl.default_extension}).html(fmt);\n",
       "        fmt_picker.append(option)\n",
       "    }\n",
       "\n",
       "    // Add hover states to the ui-buttons\n",
       "    $( \".ui-button\" ).hover(\n",
       "        function() { $(this).addClass(\"ui-state-hover\");},\n",
       "        function() { $(this).removeClass(\"ui-state-hover\");}\n",
       "    );\n",
       "\n",
       "    var status_bar = $('<span class=\"mpl-message\"/>');\n",
       "    nav_element.append(status_bar);\n",
       "    this.message = status_bar[0];\n",
       "}\n",
       "\n",
       "mpl.figure.prototype.request_resize = function(x_pixels, y_pixels) {\n",
       "    // Request matplotlib to resize the figure. Matplotlib will then trigger a resize in the client,\n",
       "    // which will in turn request a refresh of the image.\n",
       "    this.send_message('resize', {'width': x_pixels, 'height': y_pixels});\n",
       "}\n",
       "\n",
       "mpl.figure.prototype.send_message = function(type, properties) {\n",
       "    properties['type'] = type;\n",
       "    properties['figure_id'] = this.id;\n",
       "    this.ws.send(JSON.stringify(properties));\n",
       "}\n",
       "\n",
       "mpl.figure.prototype.send_draw_message = function() {\n",
       "    if (!this.waiting) {\n",
       "        this.waiting = true;\n",
       "        this.ws.send(JSON.stringify({type: \"draw\", figure_id: this.id}));\n",
       "    }\n",
       "}\n",
       "\n",
       "\n",
       "mpl.figure.prototype.handle_save = function(fig, msg) {\n",
       "    var format_dropdown = fig.format_dropdown;\n",
       "    var format = format_dropdown.options[format_dropdown.selectedIndex].value;\n",
       "    fig.ondownload(fig, format);\n",
       "}\n",
       "\n",
       "\n",
       "mpl.figure.prototype.handle_resize = function(fig, msg) {\n",
       "    var size = msg['size'];\n",
       "    if (size[0] != fig.canvas.width || size[1] != fig.canvas.height) {\n",
       "        fig._resize_canvas(size[0], size[1]);\n",
       "        fig.send_message(\"refresh\", {});\n",
       "    };\n",
       "}\n",
       "\n",
       "mpl.figure.prototype.handle_rubberband = function(fig, msg) {\n",
       "    var x0 = msg['x0'] / mpl.ratio;\n",
       "    var y0 = (fig.canvas.height - msg['y0']) / mpl.ratio;\n",
       "    var x1 = msg['x1'] / mpl.ratio;\n",
       "    var y1 = (fig.canvas.height - msg['y1']) / mpl.ratio;\n",
       "    x0 = Math.floor(x0) + 0.5;\n",
       "    y0 = Math.floor(y0) + 0.5;\n",
       "    x1 = Math.floor(x1) + 0.5;\n",
       "    y1 = Math.floor(y1) + 0.5;\n",
       "    var min_x = Math.min(x0, x1);\n",
       "    var min_y = Math.min(y0, y1);\n",
       "    var width = Math.abs(x1 - x0);\n",
       "    var height = Math.abs(y1 - y0);\n",
       "\n",
       "    fig.rubberband_context.clearRect(\n",
       "        0, 0, fig.canvas.width, fig.canvas.height);\n",
       "\n",
       "    fig.rubberband_context.strokeRect(min_x, min_y, width, height);\n",
       "}\n",
       "\n",
       "mpl.figure.prototype.handle_figure_label = function(fig, msg) {\n",
       "    // Updates the figure title.\n",
       "    fig.header.textContent = msg['label'];\n",
       "}\n",
       "\n",
       "mpl.figure.prototype.handle_cursor = function(fig, msg) {\n",
       "    var cursor = msg['cursor'];\n",
       "    switch(cursor)\n",
       "    {\n",
       "    case 0:\n",
       "        cursor = 'pointer';\n",
       "        break;\n",
       "    case 1:\n",
       "        cursor = 'default';\n",
       "        break;\n",
       "    case 2:\n",
       "        cursor = 'crosshair';\n",
       "        break;\n",
       "    case 3:\n",
       "        cursor = 'move';\n",
       "        break;\n",
       "    }\n",
       "    fig.rubberband_canvas.style.cursor = cursor;\n",
       "}\n",
       "\n",
       "mpl.figure.prototype.handle_message = function(fig, msg) {\n",
       "    fig.message.textContent = msg['message'];\n",
       "}\n",
       "\n",
       "mpl.figure.prototype.handle_draw = function(fig, msg) {\n",
       "    // Request the server to send over a new figure.\n",
       "    fig.send_draw_message();\n",
       "}\n",
       "\n",
       "mpl.figure.prototype.handle_image_mode = function(fig, msg) {\n",
       "    fig.image_mode = msg['mode'];\n",
       "}\n",
       "\n",
       "mpl.figure.prototype.updated_canvas_event = function() {\n",
       "    // Called whenever the canvas gets updated.\n",
       "    this.send_message(\"ack\", {});\n",
       "}\n",
       "\n",
       "// A function to construct a web socket function for onmessage handling.\n",
       "// Called in the figure constructor.\n",
       "mpl.figure.prototype._make_on_message_function = function(fig) {\n",
       "    return function socket_on_message(evt) {\n",
       "        if (evt.data instanceof Blob) {\n",
       "            /* FIXME: We get \"Resource interpreted as Image but\n",
       "             * transferred with MIME type text/plain:\" errors on\n",
       "             * Chrome.  But how to set the MIME type?  It doesn't seem\n",
       "             * to be part of the websocket stream */\n",
       "            evt.data.type = \"image/png\";\n",
       "\n",
       "            /* Free the memory for the previous frames */\n",
       "            if (fig.imageObj.src) {\n",
       "                (window.URL || window.webkitURL).revokeObjectURL(\n",
       "                    fig.imageObj.src);\n",
       "            }\n",
       "\n",
       "            fig.imageObj.src = (window.URL || window.webkitURL).createObjectURL(\n",
       "                evt.data);\n",
       "            fig.updated_canvas_event();\n",
       "            fig.waiting = false;\n",
       "            return;\n",
       "        }\n",
       "        else if (typeof evt.data === 'string' && evt.data.slice(0, 21) == \"data:image/png;base64\") {\n",
       "            fig.imageObj.src = evt.data;\n",
       "            fig.updated_canvas_event();\n",
       "            fig.waiting = false;\n",
       "            return;\n",
       "        }\n",
       "\n",
       "        var msg = JSON.parse(evt.data);\n",
       "        var msg_type = msg['type'];\n",
       "\n",
       "        // Call the  \"handle_{type}\" callback, which takes\n",
       "        // the figure and JSON message as its only arguments.\n",
       "        try {\n",
       "            var callback = fig[\"handle_\" + msg_type];\n",
       "        } catch (e) {\n",
       "            console.log(\"No handler for the '\" + msg_type + \"' message type: \", msg);\n",
       "            return;\n",
       "        }\n",
       "\n",
       "        if (callback) {\n",
       "            try {\n",
       "                // console.log(\"Handling '\" + msg_type + \"' message: \", msg);\n",
       "                callback(fig, msg);\n",
       "            } catch (e) {\n",
       "                console.log(\"Exception inside the 'handler_\" + msg_type + \"' callback:\", e, e.stack, msg);\n",
       "            }\n",
       "        }\n",
       "    };\n",
       "}\n",
       "\n",
       "// from http://stackoverflow.com/questions/1114465/getting-mouse-location-in-canvas\n",
       "mpl.findpos = function(e) {\n",
       "    //this section is from http://www.quirksmode.org/js/events_properties.html\n",
       "    var targ;\n",
       "    if (!e)\n",
       "        e = window.event;\n",
       "    if (e.target)\n",
       "        targ = e.target;\n",
       "    else if (e.srcElement)\n",
       "        targ = e.srcElement;\n",
       "    if (targ.nodeType == 3) // defeat Safari bug\n",
       "        targ = targ.parentNode;\n",
       "\n",
       "    // jQuery normalizes the pageX and pageY\n",
       "    // pageX,Y are the mouse positions relative to the document\n",
       "    // offset() returns the position of the element relative to the document\n",
       "    var x = e.pageX - $(targ).offset().left;\n",
       "    var y = e.pageY - $(targ).offset().top;\n",
       "\n",
       "    return {\"x\": x, \"y\": y};\n",
       "};\n",
       "\n",
       "/*\n",
       " * return a copy of an object with only non-object keys\n",
       " * we need this to avoid circular references\n",
       " * http://stackoverflow.com/a/24161582/3208463\n",
       " */\n",
       "function simpleKeys (original) {\n",
       "  return Object.keys(original).reduce(function (obj, key) {\n",
       "    if (typeof original[key] !== 'object')\n",
       "        obj[key] = original[key]\n",
       "    return obj;\n",
       "  }, {});\n",
       "}\n",
       "\n",
       "mpl.figure.prototype.mouse_event = function(event, name) {\n",
       "    var canvas_pos = mpl.findpos(event)\n",
       "\n",
       "    if (name === 'button_press')\n",
       "    {\n",
       "        this.canvas.focus();\n",
       "        this.canvas_div.focus();\n",
       "    }\n",
       "\n",
       "    var x = canvas_pos.x * mpl.ratio;\n",
       "    var y = canvas_pos.y * mpl.ratio;\n",
       "\n",
       "    this.send_message(name, {x: x, y: y, button: event.button,\n",
       "                             step: event.step,\n",
       "                             guiEvent: simpleKeys(event)});\n",
       "\n",
       "    /* This prevents the web browser from automatically changing to\n",
       "     * the text insertion cursor when the button is pressed.  We want\n",
       "     * to control all of the cursor setting manually through the\n",
       "     * 'cursor' event from matplotlib */\n",
       "    event.preventDefault();\n",
       "    return false;\n",
       "}\n",
       "\n",
       "mpl.figure.prototype._key_event_extra = function(event, name) {\n",
       "    // Handle any extra behaviour associated with a key event\n",
       "}\n",
       "\n",
       "mpl.figure.prototype.key_event = function(event, name) {\n",
       "\n",
       "    // Prevent repeat events\n",
       "    if (name == 'key_press')\n",
       "    {\n",
       "        if (event.which === this._key)\n",
       "            return;\n",
       "        else\n",
       "            this._key = event.which;\n",
       "    }\n",
       "    if (name == 'key_release')\n",
       "        this._key = null;\n",
       "\n",
       "    var value = '';\n",
       "    if (event.ctrlKey && event.which != 17)\n",
       "        value += \"ctrl+\";\n",
       "    if (event.altKey && event.which != 18)\n",
       "        value += \"alt+\";\n",
       "    if (event.shiftKey && event.which != 16)\n",
       "        value += \"shift+\";\n",
       "\n",
       "    value += 'k';\n",
       "    value += event.which.toString();\n",
       "\n",
       "    this._key_event_extra(event, name);\n",
       "\n",
       "    this.send_message(name, {key: value,\n",
       "                             guiEvent: simpleKeys(event)});\n",
       "    return false;\n",
       "}\n",
       "\n",
       "mpl.figure.prototype.toolbar_button_onclick = function(name) {\n",
       "    if (name == 'download') {\n",
       "        this.handle_save(this, null);\n",
       "    } else {\n",
       "        this.send_message(\"toolbar_button\", {name: name});\n",
       "    }\n",
       "};\n",
       "\n",
       "mpl.figure.prototype.toolbar_button_onmouseover = function(tooltip) {\n",
       "    this.message.textContent = tooltip;\n",
       "};\n",
       "mpl.toolbar_items = [[\"Home\", \"Reset original view\", \"fa fa-home icon-home\", \"home\"], [\"Back\", \"Back to  previous view\", \"fa fa-arrow-left icon-arrow-left\", \"back\"], [\"Forward\", \"Forward to next view\", \"fa fa-arrow-right icon-arrow-right\", \"forward\"], [\"\", \"\", \"\", \"\"], [\"Pan\", \"Pan axes with left mouse, zoom with right\", \"fa fa-arrows icon-move\", \"pan\"], [\"Zoom\", \"Zoom to rectangle\", \"fa fa-square-o icon-check-empty\", \"zoom\"], [\"\", \"\", \"\", \"\"], [\"Download\", \"Download plot\", \"fa fa-floppy-o icon-save\", \"download\"]];\n",
       "\n",
       "mpl.extensions = [\"eps\", \"jpeg\", \"pdf\", \"png\", \"ps\", \"raw\", \"svg\", \"tif\"];\n",
       "\n",
       "mpl.default_extension = \"png\";var comm_websocket_adapter = function(comm) {\n",
       "    // Create a \"websocket\"-like object which calls the given IPython comm\n",
       "    // object with the appropriate methods. Currently this is a non binary\n",
       "    // socket, so there is still some room for performance tuning.\n",
       "    var ws = {};\n",
       "\n",
       "    ws.close = function() {\n",
       "        comm.close()\n",
       "    };\n",
       "    ws.send = function(m) {\n",
       "        //console.log('sending', m);\n",
       "        comm.send(m);\n",
       "    };\n",
       "    // Register the callback with on_msg.\n",
       "    comm.on_msg(function(msg) {\n",
       "        //console.log('receiving', msg['content']['data'], msg);\n",
       "        // Pass the mpl event to the overriden (by mpl) onmessage function.\n",
       "        ws.onmessage(msg['content']['data'])\n",
       "    });\n",
       "    return ws;\n",
       "}\n",
       "\n",
       "mpl.mpl_figure_comm = function(comm, msg) {\n",
       "    // This is the function which gets called when the mpl process\n",
       "    // starts-up an IPython Comm through the \"matplotlib\" channel.\n",
       "\n",
       "    var id = msg.content.data.id;\n",
       "    // Get hold of the div created by the display call when the Comm\n",
       "    // socket was opened in Python.\n",
       "    var element = $(\"#\" + id);\n",
       "    var ws_proxy = comm_websocket_adapter(comm)\n",
       "\n",
       "    function ondownload(figure, format) {\n",
       "        window.open(figure.imageObj.src);\n",
       "    }\n",
       "\n",
       "    var fig = new mpl.figure(id, ws_proxy,\n",
       "                           ondownload,\n",
       "                           element.get(0));\n",
       "\n",
       "    // Call onopen now - mpl needs it, as it is assuming we've passed it a real\n",
       "    // web socket which is closed, not our websocket->open comm proxy.\n",
       "    ws_proxy.onopen();\n",
       "\n",
       "    fig.parent_element = element.get(0);\n",
       "    fig.cell_info = mpl.find_output_cell(\"<div id='\" + id + \"'></div>\");\n",
       "    if (!fig.cell_info) {\n",
       "        console.error(\"Failed to find cell for figure\", id, fig);\n",
       "        return;\n",
       "    }\n",
       "\n",
       "    var output_index = fig.cell_info[2]\n",
       "    var cell = fig.cell_info[0];\n",
       "\n",
       "};\n",
       "\n",
       "mpl.figure.prototype.handle_close = function(fig, msg) {\n",
       "    var width = fig.canvas.width/mpl.ratio\n",
       "    fig.root.unbind('remove')\n",
       "\n",
       "    // Update the output cell to use the data from the current canvas.\n",
       "    fig.push_to_output();\n",
       "    var dataURL = fig.canvas.toDataURL();\n",
       "    // Re-enable the keyboard manager in IPython - without this line, in FF,\n",
       "    // the notebook keyboard shortcuts fail.\n",
       "    IPython.keyboard_manager.enable()\n",
       "    $(fig.parent_element).html('<img src=\"' + dataURL + '\" width=\"' + width + '\">');\n",
       "    fig.close_ws(fig, msg);\n",
       "}\n",
       "\n",
       "mpl.figure.prototype.close_ws = function(fig, msg){\n",
       "    fig.send_message('closing', msg);\n",
       "    // fig.ws.close()\n",
       "}\n",
       "\n",
       "mpl.figure.prototype.push_to_output = function(remove_interactive) {\n",
       "    // Turn the data on the canvas into data in the output cell.\n",
       "    var width = this.canvas.width/mpl.ratio\n",
       "    var dataURL = this.canvas.toDataURL();\n",
       "    this.cell_info[1]['text/html'] = '<img src=\"' + dataURL + '\" width=\"' + width + '\">';\n",
       "}\n",
       "\n",
       "mpl.figure.prototype.updated_canvas_event = function() {\n",
       "    // Tell IPython that the notebook contents must change.\n",
       "    IPython.notebook.set_dirty(true);\n",
       "    this.send_message(\"ack\", {});\n",
       "    var fig = this;\n",
       "    // Wait a second, then push the new image to the DOM so\n",
       "    // that it is saved nicely (might be nice to debounce this).\n",
       "    setTimeout(function () { fig.push_to_output() }, 1000);\n",
       "}\n",
       "\n",
       "mpl.figure.prototype._init_toolbar = function() {\n",
       "    var fig = this;\n",
       "\n",
       "    var nav_element = $('<div/>')\n",
       "    nav_element.attr('style', 'width: 100%');\n",
       "    this.root.append(nav_element);\n",
       "\n",
       "    // Define a callback function for later on.\n",
       "    function toolbar_event(event) {\n",
       "        return fig.toolbar_button_onclick(event['data']);\n",
       "    }\n",
       "    function toolbar_mouse_event(event) {\n",
       "        return fig.toolbar_button_onmouseover(event['data']);\n",
       "    }\n",
       "\n",
       "    for(var toolbar_ind in mpl.toolbar_items){\n",
       "        var name = mpl.toolbar_items[toolbar_ind][0];\n",
       "        var tooltip = mpl.toolbar_items[toolbar_ind][1];\n",
       "        var image = mpl.toolbar_items[toolbar_ind][2];\n",
       "        var method_name = mpl.toolbar_items[toolbar_ind][3];\n",
       "\n",
       "        if (!name) { continue; };\n",
       "\n",
       "        var button = $('<button class=\"btn btn-default\" href=\"#\" title=\"' + name + '\"><i class=\"fa ' + image + ' fa-lg\"></i></button>');\n",
       "        button.click(method_name, toolbar_event);\n",
       "        button.mouseover(tooltip, toolbar_mouse_event);\n",
       "        nav_element.append(button);\n",
       "    }\n",
       "\n",
       "    // Add the status bar.\n",
       "    var status_bar = $('<span class=\"mpl-message\" style=\"text-align:right; float: right;\"/>');\n",
       "    nav_element.append(status_bar);\n",
       "    this.message = status_bar[0];\n",
       "\n",
       "    // Add the close button to the window.\n",
       "    var buttongrp = $('<div class=\"btn-group inline pull-right\"></div>');\n",
       "    var button = $('<button class=\"btn btn-mini btn-primary\" href=\"#\" title=\"Stop Interaction\"><i class=\"fa fa-power-off icon-remove icon-large\"></i></button>');\n",
       "    button.click(function (evt) { fig.handle_close(fig, {}); } );\n",
       "    button.mouseover('Stop Interaction', toolbar_mouse_event);\n",
       "    buttongrp.append(button);\n",
       "    var titlebar = this.root.find($('.ui-dialog-titlebar'));\n",
       "    titlebar.prepend(buttongrp);\n",
       "}\n",
       "\n",
       "mpl.figure.prototype._root_extra_style = function(el){\n",
       "    var fig = this\n",
       "    el.on(\"remove\", function(){\n",
       "\tfig.close_ws(fig, {});\n",
       "    });\n",
       "}\n",
       "\n",
       "mpl.figure.prototype._canvas_extra_style = function(el){\n",
       "    // this is important to make the div 'focusable\n",
       "    el.attr('tabindex', 0)\n",
       "    // reach out to IPython and tell the keyboard manager to turn it's self\n",
       "    // off when our div gets focus\n",
       "\n",
       "    // location in version 3\n",
       "    if (IPython.notebook.keyboard_manager) {\n",
       "        IPython.notebook.keyboard_manager.register_events(el);\n",
       "    }\n",
       "    else {\n",
       "        // location in version 2\n",
       "        IPython.keyboard_manager.register_events(el);\n",
       "    }\n",
       "\n",
       "}\n",
       "\n",
       "mpl.figure.prototype._key_event_extra = function(event, name) {\n",
       "    var manager = IPython.notebook.keyboard_manager;\n",
       "    if (!manager)\n",
       "        manager = IPython.keyboard_manager;\n",
       "\n",
       "    // Check for shift+enter\n",
       "    if (event.shiftKey && event.which == 13) {\n",
       "        this.canvas_div.blur();\n",
       "        // select the cell after this one\n",
       "        var index = IPython.notebook.find_cell_index(this.cell_info[0]);\n",
       "        IPython.notebook.select(index + 1);\n",
       "    }\n",
       "}\n",
       "\n",
       "mpl.figure.prototype.handle_save = function(fig, msg) {\n",
       "    fig.ondownload(fig, null);\n",
       "}\n",
       "\n",
       "\n",
       "mpl.find_output_cell = function(html_output) {\n",
       "    // Return the cell and output element which can be found *uniquely* in the notebook.\n",
       "    // Note - this is a bit hacky, but it is done because the \"notebook_saving.Notebook\"\n",
       "    // IPython event is triggered only after the cells have been serialised, which for\n",
       "    // our purposes (turning an active figure into a static one), is too late.\n",
       "    var cells = IPython.notebook.get_cells();\n",
       "    var ncells = cells.length;\n",
       "    for (var i=0; i<ncells; i++) {\n",
       "        var cell = cells[i];\n",
       "        if (cell.cell_type === 'code'){\n",
       "            for (var j=0; j<cell.output_area.outputs.length; j++) {\n",
       "                var data = cell.output_area.outputs[j];\n",
       "                if (data.data) {\n",
       "                    // IPython >= 3 moved mimebundle to data attribute of output\n",
       "                    data = data.data;\n",
       "                }\n",
       "                if (data['text/html'] == html_output) {\n",
       "                    return [cell, data, j];\n",
       "                }\n",
       "            }\n",
       "        }\n",
       "    }\n",
       "}\n",
       "\n",
       "// Register the function which deals with the matplotlib target/channel.\n",
       "// The kernel may be null if the page has been refreshed.\n",
       "if (IPython.notebook.kernel != null) {\n",
       "    IPython.notebook.kernel.comm_manager.register_target('matplotlib', mpl.mpl_figure_comm);\n",
       "}\n"
      ],
      "text/plain": [
       "<IPython.core.display.Javascript object>"
      ]
     },
     "metadata": {},
     "output_type": "display_data"
    },
    {
     "data": {
      "text/html": [
       "<img src=\"data:image/png;base64,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\" width=\"1000\">"
      ],
      "text/plain": [
       "<IPython.core.display.HTML object>"
      ]
     },
     "metadata": {},
     "output_type": "display_data"
    },
    {
     "data": {
      "text/plain": [
       "[]"
      ]
     },
     "execution_count": 151,
     "metadata": {},
     "output_type": "execute_result"
    }
   ],
   "source": [
    "%matplotlib notebook\n",
    "import matplotlib.pyplot as plt\n",
    "\n",
    "def pct25(x): x.dropna().quantile(.25)\n",
    "def pct75(x): x.dropna().quantile(.75)\n",
    "byquarter=out[year>2010].groupby([year,quarter]).agg({'Case.File.Date': pd.Series.count,\n",
    "                                            'Judgment.Amount': (np.mean,\n",
    "                                                                np.min,\n",
    "                                                                pct25,\n",
    "                                                                np.median,\n",
    "                                                                pct75,\n",
    "                                                                np.max,\n",
    "                                                               )})\n",
    "byquarter.plot(rot=10, figsize=(10,10))\n",
    "plt.semilogy()"
   ]
  },
  {
   "cell_type": "code",
   "execution_count": null,
   "metadata": {
    "collapsed": true
   },
   "outputs": [],
   "source": [
    "out.loc[:100,'Judgment.Amount'].groupby(year[:100]).agg(quantile)"
   ]
  },
  {
   "cell_type": "code",
   "execution_count": 88,
   "metadata": {
    "scrolled": false
   },
   "outputs": [
    {
     "data": {
      "text/html": [
       "<div>\n",
       "<style>\n",
       "    .dataframe thead tr:only-child th {\n",
       "        text-align: right;\n",
       "    }\n",
       "\n",
       "    .dataframe thead th {\n",
       "        text-align: left;\n",
       "    }\n",
       "\n",
       "    .dataframe tbody tr th {\n",
       "        vertical-align: top;\n",
       "    }\n",
       "</style>\n",
       "<table border=\"1\" class=\"dataframe\">\n",
       "  <thead>\n",
       "    <tr style=\"text-align: right;\">\n",
       "      <th></th>\n",
       "      <th>Case.File.Date</th>\n",
       "      <th>Defendant.Addr.Line.1</th>\n",
       "      <th>Defendant.Addr.City</th>\n",
       "      <th>Defendant.Addr.ZIP.1</th>\n",
       "    </tr>\n",
       "    <tr>\n",
       "      <th>Year</th>\n",
       "      <th></th>\n",
       "      <th></th>\n",
       "      <th></th>\n",
       "      <th></th>\n",
       "    </tr>\n",
       "  </thead>\n",
       "  <tbody>\n",
       "    <tr>\n",
       "      <th>1994.0</th>\n",
       "      <td>1</td>\n",
       "      <td>1</td>\n",
       "      <td>1</td>\n",
       "      <td>1</td>\n",
       "    </tr>\n",
       "    <tr>\n",
       "      <th>1997.0</th>\n",
       "      <td>1</td>\n",
       "      <td>1</td>\n",
       "      <td>1</td>\n",
       "      <td>1</td>\n",
       "    </tr>\n",
       "    <tr>\n",
       "      <th>1998.0</th>\n",
       "      <td>4</td>\n",
       "      <td>4</td>\n",
       "      <td>4</td>\n",
       "      <td>4</td>\n",
       "    </tr>\n",
       "    <tr>\n",
       "      <th>1999.0</th>\n",
       "      <td>1</td>\n",
       "      <td>1</td>\n",
       "      <td>1</td>\n",
       "      <td>1</td>\n",
       "    </tr>\n",
       "    <tr>\n",
       "      <th>2000.0</th>\n",
       "      <td>10</td>\n",
       "      <td>10</td>\n",
       "      <td>10</td>\n",
       "      <td>10</td>\n",
       "    </tr>\n",
       "    <tr>\n",
       "      <th>2001.0</th>\n",
       "      <td>5</td>\n",
       "      <td>5</td>\n",
       "      <td>5</td>\n",
       "      <td>5</td>\n",
       "    </tr>\n",
       "    <tr>\n",
       "      <th>2002.0</th>\n",
       "      <td>25</td>\n",
       "      <td>25</td>\n",
       "      <td>25</td>\n",
       "      <td>25</td>\n",
       "    </tr>\n",
       "    <tr>\n",
       "      <th>2003.0</th>\n",
       "      <td>8</td>\n",
       "      <td>8</td>\n",
       "      <td>8</td>\n",
       "      <td>8</td>\n",
       "    </tr>\n",
       "    <tr>\n",
       "      <th>2004.0</th>\n",
       "      <td>1</td>\n",
       "      <td>1</td>\n",
       "      <td>1</td>\n",
       "      <td>1</td>\n",
       "    </tr>\n",
       "    <tr>\n",
       "      <th>2007.0</th>\n",
       "      <td>2</td>\n",
       "      <td>2</td>\n",
       "      <td>2</td>\n",
       "      <td>2</td>\n",
       "    </tr>\n",
       "    <tr>\n",
       "      <th>2008.0</th>\n",
       "      <td>4</td>\n",
       "      <td>4</td>\n",
       "      <td>4</td>\n",
       "      <td>4</td>\n",
       "    </tr>\n",
       "    <tr>\n",
       "      <th>2009.0</th>\n",
       "      <td>10</td>\n",
       "      <td>10</td>\n",
       "      <td>10</td>\n",
       "      <td>10</td>\n",
       "    </tr>\n",
       "    <tr>\n",
       "      <th>2010.0</th>\n",
       "      <td>72</td>\n",
       "      <td>72</td>\n",
       "      <td>72</td>\n",
       "      <td>72</td>\n",
       "    </tr>\n",
       "    <tr>\n",
       "      <th>2011.0</th>\n",
       "      <td>29344</td>\n",
       "      <td>29343</td>\n",
       "      <td>29342</td>\n",
       "      <td>29335</td>\n",
       "    </tr>\n",
       "    <tr>\n",
       "      <th>2012.0</th>\n",
       "      <td>30978</td>\n",
       "      <td>30975</td>\n",
       "      <td>30972</td>\n",
       "      <td>30971</td>\n",
       "    </tr>\n",
       "    <tr>\n",
       "      <th>2013.0</th>\n",
       "      <td>31150</td>\n",
       "      <td>31146</td>\n",
       "      <td>31145</td>\n",
       "      <td>31139</td>\n",
       "    </tr>\n",
       "    <tr>\n",
       "      <th>2014.0</th>\n",
       "      <td>30039</td>\n",
       "      <td>30036</td>\n",
       "      <td>30036</td>\n",
       "      <td>30032</td>\n",
       "    </tr>\n",
       "    <tr>\n",
       "      <th>2015.0</th>\n",
       "      <td>29012</td>\n",
       "      <td>29012</td>\n",
       "      <td>29008</td>\n",
       "      <td>29006</td>\n",
       "    </tr>\n",
       "    <tr>\n",
       "      <th>2016.0</th>\n",
       "      <td>29097</td>\n",
       "      <td>28878</td>\n",
       "      <td>29024</td>\n",
       "      <td>29022</td>\n",
       "    </tr>\n",
       "    <tr>\n",
       "      <th>2017.0</th>\n",
       "      <td>7688</td>\n",
       "      <td>7250</td>\n",
       "      <td>7651</td>\n",
       "      <td>7651</td>\n",
       "    </tr>\n",
       "  </tbody>\n",
       "</table>\n",
       "</div>"
      ],
      "text/plain": [
       "        Case.File.Date  Defendant.Addr.Line.1  Defendant.Addr.City  \\\n",
       "Year                                                                 \n",
       "1994.0               1                      1                    1   \n",
       "1997.0               1                      1                    1   \n",
       "1998.0               4                      4                    4   \n",
       "1999.0               1                      1                    1   \n",
       "2000.0              10                     10                   10   \n",
       "2001.0               5                      5                    5   \n",
       "2002.0              25                     25                   25   \n",
       "2003.0               8                      8                    8   \n",
       "2004.0               1                      1                    1   \n",
       "2007.0               2                      2                    2   \n",
       "2008.0               4                      4                    4   \n",
       "2009.0              10                     10                   10   \n",
       "2010.0              72                     72                   72   \n",
       "2011.0           29344                  29343                29342   \n",
       "2012.0           30978                  30975                30972   \n",
       "2013.0           31150                  31146                31145   \n",
       "2014.0           30039                  30036                30036   \n",
       "2015.0           29012                  29012                29008   \n",
       "2016.0           29097                  28878                29024   \n",
       "2017.0            7688                   7250                 7651   \n",
       "\n",
       "        Defendant.Addr.ZIP.1  \n",
       "Year                          \n",
       "1994.0                     1  \n",
       "1997.0                     1  \n",
       "1998.0                     4  \n",
       "1999.0                     1  \n",
       "2000.0                    10  \n",
       "2001.0                     5  \n",
       "2002.0                    25  \n",
       "2003.0                     8  \n",
       "2004.0                     1  \n",
       "2007.0                     2  \n",
       "2008.0                     4  \n",
       "2009.0                    10  \n",
       "2010.0                    72  \n",
       "2011.0                 29335  \n",
       "2012.0                 30971  \n",
       "2013.0                 31139  \n",
       "2014.0                 30032  \n",
       "2015.0                 29006  \n",
       "2016.0                 29022  \n",
       "2017.0                  7651  "
      ]
     },
     "execution_count": 88,
     "metadata": {},
     "output_type": "execute_result"
    }
   ],
   "source": [
    "out.groupby('Year').count()"
   ]
  },
  {
   "cell_type": "code",
   "execution_count": 83,
   "metadata": {},
   "outputs": [
    {
     "data": {
      "text/plain": [
       "(205152, 4)"
      ]
     },
     "execution_count": 83,
     "metadata": {},
     "output_type": "execute_result"
    }
   ],
   "source": [
    "out.shape"
   ]
  },
  {
   "cell_type": "code",
   "execution_count": 58,
   "metadata": {},
   "outputs": [
    {
     "name": "stderr",
     "output_type": "stream",
     "text": [
      "S:\\programs\\x64\\Anaconda3\\lib\\site-packages\\IPython\\core\\interactiveshell.py:2683: DtypeWarning: Columns (25,40,48,50,57,58,59,60,61,73,76,77,78,79,80,85,86) have mixed types. Specify dtype option on import or set low_memory=False.\n",
      "  interactivity=interactivity, compiler=compiler, result=result)\n"
     ]
    },
    {
     "data": {
      "text/plain": [
       "8799"
      ]
     },
     "execution_count": 58,
     "metadata": {},
     "output_type": "execute_result"
    }
   ],
   "source": [
    "pd.read_csv('evictions.csv')['Disposition.Date.'].count()"
   ]
  },
  {
   "cell_type": "code",
   "execution_count": 59,
   "metadata": {},
   "outputs": [
    {
     "data": {
      "text/plain": [
       "7.772587794067507"
      ]
     },
     "execution_count": 59,
     "metadata": {},
     "output_type": "execute_result"
    }
   ],
   "source": [
    "68391/8799"
   ]
  }
 ],
 "metadata": {
  "anaconda-cloud": {},
  "kernelspec": {
   "display_name": "Python [default]",
   "language": "python",
   "name": "python3"
  },
  "language_info": {
   "codemirror_mode": {
    "name": "ipython",
    "version": 3
   },
   "file_extension": ".py",
   "mimetype": "text/x-python",
   "name": "python",
   "nbconvert_exporter": "python",
   "pygments_lexer": "ipython3",
   "version": "3.5.3"
  }
 },
 "nbformat": 4,
 "nbformat_minor": 2
}
