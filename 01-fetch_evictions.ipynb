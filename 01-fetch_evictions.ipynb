{
 "cells": [
  {
   "cell_type": "code",
   "execution_count": 39,
   "metadata": {
    "collapsed": true
   },
   "outputs": [],
   "source": [
    "import csv\n",
    "import datetime\n",
    "import glob\n",
    "import grequests\n",
    "import io\n",
    "import os\n",
    "import re\n",
    "from requests import Session\n",
    "import time\n",
    "import urllib.parse"
   ]
  },
  {
   "cell_type": "markdown",
   "metadata": {},
   "source": [
    "When the user query page loads its table, it sends XHRs to https://jpwebsite.harriscountytx.gov/PublicExtracts/GetExtractData .\n",
    "\n",
    "I set this routine up to use `grequests` (async) so I could fetch data in parallel. But (maybe just on Windows?) that led to very high rates of connection errors (SSL handshake failures), so I ended up cutting it down to 1-2 anyway.\n",
    "\n"
   ]
  },
  {
   "cell_type": "markdown",
   "metadata": {},
   "source": [
    "*Update*: found a fix, which I'm bringing in from the other notebook."
   ]
  },
  {
   "cell_type": "code",
   "execution_count": 57,
   "metadata": {
    "collapsed": true
   },
   "outputs": [],
   "source": [
    "# Work around some Windows TLS issues\n",
    "from requests.adapters import HTTPAdapter\n",
    "from requests.packages.urllib3.poolmanager import PoolManager\n",
    "import ssl\n",
    "\n",
    "class MyAdapter(HTTPAdapter):\n",
    "    def init_poolmanager(self, connections, maxsize, block=False):\n",
    "        self.poolmanager = PoolManager(num_pools=connections,\n",
    "                                       maxsize=maxsize,\n",
    "                                       block=block,\n",
    "                                       ssl_version=ssl.PROTOCOL_TLSv1_2)"
   ]
  },
  {
   "cell_type": "markdown",
   "metadata": {},
   "source": [
    "The courts are enumerated thus:"
   ]
  },
  {
   "cell_type": "code",
   "execution_count": 41,
   "metadata": {
    "collapsed": true
   },
   "outputs": [],
   "source": [
    "courts = {\n",
    "    305: 'Precinct 1, Place 1',\n",
    "    310: 'Precinct 1, Place 2',\n",
    "    315: 'Precinct 2, Place 1',\n",
    "    320: 'Precinct 2, Place 2',\n",
    "    325: 'Precinct 3, Place 1',\n",
    "    330: 'Precinct 3, Place 2',\n",
    "    335: 'Precinct 4, Place 1',\n",
    "    340: 'Precinct 4, Place 2',\n",
    "    345: 'Precinct 5, Place 1',\n",
    "    350: 'Precinct 5, Place 2',\n",
    "    355: 'Precinct 6, Place 1',\n",
    "    360: 'Precinct 6, Place 2',\n",
    "    365: 'Precinct 7, Place 1',\n",
    "    370: 'Precinct 7, Place 2',\n",
    "    375: 'Precinct 8, Place 1',\n",
    "    380: 'Precinct 8, Place 2',\n",
    "}"
   ]
  },
  {
   "cell_type": "code",
   "execution_count": 42,
   "metadata": {
    "collapsed": true
   },
   "outputs": [],
   "source": [
    "def makerequest(court, from_date, to_date, session, format):\n",
    "    \"\"\"Query the Houston Courts extract data service\n",
    "    \n",
    "    Returns a tuple of the header and the data\"\"\"\n",
    "    return grequests.get(\n",
    "        'https://jpwebsite.harriscountytx.gov/PublicExtracts/GetExtractData',\n",
    "        params={\n",
    "            'extractCaseType': 'CV', # Civil \n",
    "            'extract': 3, # Judgments entered\n",
    "            'court': court,\n",
    "            'casetype': 'EV', # Eviction\n",
    "            'format': format, #csv, xml, tab\n",
    "            'fdate': from_date.strftime('%m/%d/%Y'),\n",
    "            'tdate': to_date.strftime('%m/%d/%Y'),\n",
    "        },\n",
    "        stream=False,\n",
    "        session=session)"
   ]
  },
  {
   "cell_type": "markdown",
   "metadata": {},
   "source": [
    "Retrying the failures worked fine, so this little exception handler (factory) makes it easy to keep track of them."
   ]
  },
  {
   "cell_type": "code",
   "execution_count": 43,
   "metadata": {
    "collapsed": true
   },
   "outputs": [],
   "source": [
    "def makeexceptionhandler(eh_badreqs):\n",
    "    \"\"\"make an exception handler for a call to `grequests.map` that collects failed requests in the `eh_badreqs` list\n",
    "    \"\"\"\n",
    "    def exceptionhandler(req, exc):\n",
    "        print(\"Request failed:\", str(exc), req.kwargs['params'])\n",
    "        eh_badreqs.append(req.kwargs['params'])\n",
    "    return exceptionhandler"
   ]
  },
  {
   "cell_type": "markdown",
   "metadata": {},
   "source": [
    "And a helper to make adequately unique CSV file names"
   ]
  },
  {
   "cell_type": "code",
   "execution_count": 44,
   "metadata": {
    "collapsed": true,
    "scrolled": true
   },
   "outputs": [],
   "source": [
    "def urltocsvpath(template, url):\n",
    "    \"\"\"Parse the court and from-data from an API URL and use it to make a distinct CSV file name.\n",
    "    \"\"\"\n",
    "    pr = urllib.parse.parse_qs(urllib.parse.urlparse(url).query)\n",
    "    return template.format(\n",
    "        court=pr['court'][0],\n",
    "        fromdate=re.sub('^(..)/(..)/(.+)$',r'\\3-\\1-\\2', pr['fdate'][0]),\n",
    "        format=pr['format'][0]\n",
    "    )"
   ]
  },
  {
   "cell_type": "code",
   "execution_count": 45,
   "metadata": {},
   "outputs": [],
   "source": [
    "# interactive sanity check\n",
    "req = makerequest(305, datetime.date(2016,1,1), datetime.date(2016,1,31), None, 'xml')\n",
    "r = grequests.map([req])"
   ]
  },
  {
   "cell_type": "code",
   "execution_count": 46,
   "metadata": {},
   "outputs": [
    {
     "data": {
      "text/plain": [
       "200"
      ]
     },
     "execution_count": 46,
     "metadata": {},
     "output_type": "execute_result"
    }
   ],
   "source": [
    "# interactive sanity check\n",
    "r[0].status_code"
   ]
  },
  {
   "cell_type": "code",
   "execution_count": 47,
   "metadata": {},
   "outputs": [
    {
     "data": {
      "text/plain": [
       "'tmp/tmp_court_305-2016-01-01.xml'"
      ]
     },
     "execution_count": 47,
     "metadata": {},
     "output_type": "execute_result"
    }
   ],
   "source": [
    "# interactive sanity check\n",
    "urltocsvpath('tmp/tmp_court_{court}-{fromdate}.{format}', r[0].request.url)"
   ]
  },
  {
   "cell_type": "code",
   "execution_count": 48,
   "metadata": {},
   "outputs": [
    {
     "data": {
      "text/plain": [
       "'<?xml version=\"1.0\" encoding=\"ISO-8859-1\"?><Results><Row><CaseNumber>EV11C0087006</CaseNumber><CaseT'"
      ]
     },
     "execution_count": 48,
     "metadata": {},
     "output_type": "execute_result"
    }
   ],
   "source": [
    "r[0].text[:100]"
   ]
  },
  {
   "cell_type": "markdown",
   "metadata": {},
   "source": [
    "Most of the actual control flow lives here; this sends the requests passed in via iterable `reqs` and write outputs to filenames generated using the routine above, and retries any failures."
   ]
  },
  {
   "cell_type": "code",
   "execution_count": 49,
   "metadata": {
    "collapsed": true
   },
   "outputs": [],
   "source": [
    "def send_requests(reqs, size, template):\n",
    "    eh_badreqs = True # hokey trick to bootstrap first loop iteration\n",
    "    issued = 0\n",
    "    while eh_badreqs:\n",
    "        eh_badreqs = []\n",
    "        exceptionhandler = makeexceptionhandler(eh_badreqs)\n",
    "        for resp in grequests.imap(reqs, exception_handler=exceptionhandler, size=size):\n",
    "            if resp.status_code == 200:\n",
    "                issued += 1\n",
    "                if issued % 10 == 0:\n",
    "                    print(\"Finished\", issued)\n",
    "                with open(urltocsvpath(template, resp.request.url), 'w') as out:\n",
    "                    out.write(resp.text.replace('\\n\\n','\\n'))\n",
    "            else:\n",
    "                print(\"Request failed:\", req.kwargs['params'])\n",
    "        print(\"\\n\\n*** Retrying\", len(eh_badreqs), \"bad requests\")\n",
    "        reqs = []\n",
    "        for params in eh_badreqs:\n",
    "            reqs.append(grequests.get('https://jpwebsite.harriscountytx.gov/PublicExtracts/GetExtractData', params=params))"
   ]
  },
  {
   "cell_type": "markdown",
   "metadata": {},
   "source": [
    "A few date manipulation routines to get month start/end dates for queries."
   ]
  },
  {
   "cell_type": "code",
   "execution_count": 50,
   "metadata": {
    "collapsed": true
   },
   "outputs": [],
   "source": [
    "def incmonth(date):\n",
    "    \"\"\"Returns a `datetime.date` fo the first day of the month after the input date's month.\n",
    "    \"\"\"\n",
    "    if date.month < 12:\n",
    "        return datetime.date(date.year, date.month+1, date.day)\n",
    "    else:\n",
    "        return datetime.date(date.year+1, 1, date.day)"
   ]
  },
  {
   "cell_type": "code",
   "execution_count": 51,
   "metadata": {
    "collapsed": true
   },
   "outputs": [],
   "source": [
    "def endofmonth(date):\n",
    "    \"\"\"Returns a `datetime.date` for the last day of the input date's month\n",
    "    \"\"\"\n",
    "    return incmonth(datetime.date(date.year, date.month, 1)) - datetime.timedelta(1)"
   ]
  },
  {
   "cell_type": "code",
   "execution_count": 52,
   "metadata": {
    "collapsed": true
   },
   "outputs": [],
   "source": [
    "def datebounds(\n",
    "    start,\n",
    "    limit=None\n",
    "):\n",
    "    \"\"\"Generator to  yield month startdate-enddate pairs contained in the range [start, limit).\n",
    "    The first pair will always start with `begin`, so may be less than a full month.\n",
    "    The last pair will always be for the month before `end`'s month.\n",
    "    \"\"\"\n",
    "    fromdate = start\n",
    "    todate = endofmonth(fromdate)\n",
    "    limit = limit or datetime.datetime.now().date()\n",
    "    while fromdate < limit and todate < limit:\n",
    "        yield (fromdate, todate)\n",
    "        fromdate = incmonth(fromdate)\n",
    "        todate = endofmonth(fromdate)"
   ]
  },
  {
   "cell_type": "code",
   "execution_count": 53,
   "metadata": {},
   "outputs": [
    {
     "data": {
      "text/plain": [
       "[(datetime.date(2017, 5, 1), datetime.date(2017, 5, 31)),\n",
       " (datetime.date(2017, 6, 1), datetime.date(2017, 6, 30)),\n",
       " (datetime.date(2017, 7, 1), datetime.date(2017, 7, 31))]"
      ]
     },
     "execution_count": 53,
     "metadata": {},
     "output_type": "execute_result"
    }
   ],
   "source": [
    "# interactive sanity check\n",
    "[x for x in datebounds(datetime.date(2017,5,1))]"
   ]
  },
  {
   "cell_type": "markdown",
   "metadata": {},
   "source": [
    "So putting them together, we can make a generator to "
   ]
  },
  {
   "cell_type": "code",
   "execution_count": 54,
   "metadata": {
    "collapsed": true
   },
   "outputs": [],
   "source": [
    "def makerequests(\n",
    "    session,\n",
    "    start,\n",
    "    limit,\n",
    "    format,\n",
    "):\n",
    "    for frm,to in datebounds(start, limit):\n",
    "        for court in [305, # Precinct 1, Place 1\n",
    "                      310, # Precinct 1, Place 2\n",
    "                      315, # Precinct 2, Place 1\n",
    "                      320, # Precinct 2, Place 2\n",
    "                      325, # Precinct 3, Place 1\n",
    "                      330, # Precinct 3, Place 2\n",
    "                      335, # Precinct 4, Place 1\n",
    "                      340, # Precinct 4, Place 2\n",
    "                      345, # Precinct 5, Place 1\n",
    "                      350, # Precinct 5, Place 2\n",
    "                      355, # Precinct 6, Place 1\n",
    "                      360, # Precinct 6, Place 2\n",
    "                      365, # Precinct 7, Place 1\n",
    "                      370, # Precinct 7, Place 2\n",
    "                      375, # Precinct 8, Place 1\n",
    "                      380, # Precinct 8, Place 2\n",
    "                     ]:\n",
    "            yield makerequest(court, frm, to, session, format)"
   ]
  },
  {
   "cell_type": "code",
   "execution_count": 55,
   "metadata": {},
   "outputs": [
    {
     "name": "stdout",
     "output_type": "stream",
     "text": [
      "Wall time: 0 ns\n"
     ]
    }
   ],
   "source": [
    "%%time\n",
    "def scrape(\n",
    "    start,\n",
    "    size,\n",
    "    template,\n",
    "    end=None,\n",
    "    format='csv'\n",
    "):\n",
    "    try:\n",
    "        os.makedirs(os.path.dirname(template))\n",
    "    except:\n",
    "        pass\n",
    "    session = Session()\n",
    "    session.mount('https://', MyAdapter())\n",
    "    send_requests(makerequests(session, start, end, format), size, template)"
   ]
  },
  {
   "cell_type": "code",
   "execution_count": null,
   "metadata": {
    "scrolled": true
   },
   "outputs": [],
   "source": [
    "%%time\n",
    "template = 'orig/orig_court_{court}-{fromdate}.{format}'\n",
    "scrape(start=datetime.date(2007,1,1), size=100, template=template, format='csv')"
   ]
  },
  {
   "cell_type": "code",
   "execution_count": 58,
   "metadata": {},
   "outputs": [
    {
     "name": "stdout",
     "output_type": "stream",
     "text": [
      "Finished 10\n",
      "Finished 20\n",
      "Finished 30\n",
      "Finished 40\n",
      "Finished 50\n",
      "Finished 60\n",
      "Finished 70\n",
      "Finished 80\n",
      "Finished 90\n",
      "Finished 100\n",
      "Finished 110\n",
      "Finished 120\n",
      "Finished 130\n",
      "Finished 140\n",
      "Finished 150\n",
      "Finished 160\n",
      "Finished 170\n",
      "Finished 180\n",
      "Finished 190\n",
      "Finished 200\n",
      "Finished 210\n",
      "Finished 220\n",
      "Finished 230\n",
      "Finished 240\n",
      "Finished 250\n",
      "Request failed: (\"bad handshake: SysCallError(10054, 'WSAECONNRESET')\",) {'format': 'xml', 'court': 320, 'extractCaseType': 'CV', 'fdate': '02/01/2007', 'tdate': '02/28/2007', 'extract': 3, 'casetype': 'EV'}\n",
      "Request failed: (\"bad handshake: SysCallError(10054, 'WSAECONNRESET')\",) {'format': 'xml', 'court': 315, 'extractCaseType': 'CV', 'fdate': '02/01/2007', 'tdate': '02/28/2007', 'extract': 3, 'casetype': 'EV'}\n",
      "Request failed: (\"bad handshake: SysCallError(10054, 'WSAECONNRESET')\",) {'format': 'xml', 'court': 310, 'extractCaseType': 'CV', 'fdate': '02/01/2007', 'tdate': '02/28/2007', 'extract': 3, 'casetype': 'EV'}\n",
      "Request failed: (\"bad handshake: SysCallError(10054, 'WSAECONNRESET')\",) {'format': 'xml', 'court': 305, 'extractCaseType': 'CV', 'fdate': '02/01/2007', 'tdate': '02/28/2007', 'extract': 3, 'casetype': 'EV'}\n",
      "Request failed: (\"bad handshake: SysCallError(10054, 'WSAECONNRESET')\",) {'format': 'xml', 'court': 380, 'extractCaseType': 'CV', 'fdate': '01/01/2007', 'tdate': '01/31/2007', 'extract': 3, 'casetype': 'EV'}\n",
      "Request failed: (\"bad handshake: SysCallError(10054, 'WSAECONNRESET')\",) {'format': 'xml', 'court': 375, 'extractCaseType': 'CV', 'fdate': '01/01/2007', 'tdate': '01/31/2007', 'extract': 3, 'casetype': 'EV'}\n",
      "Request failed: (\"bad handshake: SysCallError(10054, 'WSAECONNRESET')\",) {'format': 'xml', 'court': 370, 'extractCaseType': 'CV', 'fdate': '01/01/2007', 'tdate': '01/31/2007', 'extract': 3, 'casetype': 'EV'}\n",
      "Request failed: (\"bad handshake: SysCallError(10054, 'WSAECONNRESET')\",) {'format': 'xml', 'court': 365, 'extractCaseType': 'CV', 'fdate': '01/01/2007', 'tdate': '01/31/2007', 'extract': 3, 'casetype': 'EV'}\n",
      "Request failed: (\"bad handshake: SysCallError(10054, 'WSAECONNRESET')\",) {'format': 'xml', 'court': 360, 'extractCaseType': 'CV', 'fdate': '01/01/2007', 'tdate': '01/31/2007', 'extract': 3, 'casetype': 'EV'}\n",
      "Request failed: (\"bad handshake: SysCallError(10054, 'WSAECONNRESET')\",) {'format': 'xml', 'court': 355, 'extractCaseType': 'CV', 'fdate': '01/01/2007', 'tdate': '01/31/2007', 'extract': 3, 'casetype': 'EV'}\n",
      "Request failed: (\"bad handshake: SysCallError(10054, 'WSAECONNRESET')\",) {'format': 'xml', 'court': 350, 'extractCaseType': 'CV', 'fdate': '01/01/2007', 'tdate': '01/31/2007', 'extract': 3, 'casetype': 'EV'}\n",
      "Request failed: (\"bad handshake: SysCallError(10054, 'WSAECONNRESET')\",) {'format': 'xml', 'court': 345, 'extractCaseType': 'CV', 'fdate': '01/01/2007', 'tdate': '01/31/2007', 'extract': 3, 'casetype': 'EV'}\n",
      "Request failed: (\"bad handshake: SysCallError(10054, 'WSAECONNRESET')\",) {'format': 'xml', 'court': 340, 'extractCaseType': 'CV', 'fdate': '01/01/2007', 'tdate': '01/31/2007', 'extract': 3, 'casetype': 'EV'}\n",
      "Request failed: (\"bad handshake: SysCallError(10054, 'WSAECONNRESET')\",) {'format': 'xml', 'court': 335, 'extractCaseType': 'CV', 'fdate': '01/01/2007', 'tdate': '01/31/2007', 'extract': 3, 'casetype': 'EV'}\n",
      "Request failed: (\"bad handshake: SysCallError(10054, 'WSAECONNRESET')\",) {'format': 'xml', 'court': 330, 'extractCaseType': 'CV', 'fdate': '01/01/2007', 'tdate': '01/31/2007', 'extract': 3, 'casetype': 'EV'}\n",
      "Request failed: (\"bad handshake: SysCallError(10054, 'WSAECONNRESET')\",) {'format': 'xml', 'court': 325, 'extractCaseType': 'CV', 'fdate': '01/01/2007', 'tdate': '01/31/2007', 'extract': 3, 'casetype': 'EV'}\n",
      "Request failed: (\"bad handshake: SysCallError(10054, 'WSAECONNRESET')\",) {'format': 'xml', 'court': 315, 'extractCaseType': 'CV', 'fdate': '01/01/2007', 'tdate': '01/31/2007', 'extract': 3, 'casetype': 'EV'}\n",
      "Request failed: (\"bad handshake: SysCallError(10054, 'WSAECONNRESET')\",) {'format': 'xml', 'court': 310, 'extractCaseType': 'CV', 'fdate': '01/01/2007', 'tdate': '01/31/2007', 'extract': 3, 'casetype': 'EV'}\n",
      "Request failed: (\"bad handshake: SysCallError(10054, 'WSAECONNRESET')\",) {'format': 'xml', 'court': 305, 'extractCaseType': 'CV', 'fdate': '01/01/2007', 'tdate': '01/31/2007', 'extract': 3, 'casetype': 'EV'}\n",
      "Finished 260\n",
      "Finished 270\n",
      "Finished 280\n",
      "Finished 290\n",
      "Finished 300\n",
      "Finished 310\n",
      "Finished 320\n",
      "Finished 330\n",
      "Finished 340\n",
      "Finished 350\n",
      "Finished 360\n",
      "Finished 370\n",
      "Finished 380\n",
      "Finished 390\n",
      "Finished 400\n",
      "Finished 410\n",
      "Finished 420\n",
      "Finished 430\n",
      "Finished 440\n",
      "Finished 450\n",
      "Finished 460\n",
      "Finished 470\n",
      "Finished 480\n",
      "Finished 490\n",
      "Finished 500\n",
      "Finished 510\n",
      "Finished 520\n",
      "Finished 530\n",
      "Finished 540\n",
      "Finished 550\n",
      "Finished 560\n",
      "Finished 570\n",
      "Finished 580\n",
      "Finished 590\n",
      "Finished 600\n",
      "Finished 610\n",
      "Finished 620\n",
      "Finished 630\n",
      "Finished 640\n",
      "Finished 650\n",
      "Finished 660\n",
      "Finished 670\n",
      "Finished 680\n",
      "Finished 690\n",
      "Finished 700\n",
      "Finished 710\n",
      "Finished 720\n",
      "Finished 730\n",
      "Finished 740\n",
      "Finished 750\n",
      "Finished 760\n",
      "Finished 770\n",
      "Finished 780\n",
      "Finished 790\n",
      "Finished 800\n",
      "Finished 810\n",
      "Finished 820\n",
      "Finished 830\n",
      "Finished 840\n",
      "Finished 850\n",
      "Finished 860\n",
      "Finished 870\n",
      "Finished 880\n",
      "Finished 890\n",
      "Finished 900\n",
      "Finished 910\n",
      "Finished 920\n",
      "Finished 930\n",
      "Finished 940\n",
      "Finished 950\n",
      "Finished 960\n",
      "Finished 970\n",
      "Finished 980\n",
      "Finished 990\n",
      "Finished 1000\n",
      "Finished 1010\n",
      "Finished 1020\n",
      "Finished 1030\n",
      "Finished 1040\n",
      "Finished 1050\n",
      "Finished 1060\n",
      "Finished 1070\n",
      "Finished 1080\n",
      "Finished 1090\n",
      "Finished 1100\n",
      "Finished 1110\n",
      "Finished 1120\n",
      "Finished 1130\n",
      "Finished 1140\n",
      "Finished 1150\n",
      "Finished 1160\n",
      "Finished 1170\n",
      "Finished 1180\n",
      "Finished 1190\n",
      "Finished 1200\n",
      "Finished 1210\n",
      "Finished 1220\n",
      "Finished 1230\n",
      "Finished 1240\n",
      "Finished 1250\n",
      "Finished 1260\n",
      "Finished 1270\n",
      "Finished 1280\n",
      "Finished 1290\n",
      "Finished 1300\n",
      "Finished 1310\n",
      "Finished 1320\n",
      "Finished 1330\n",
      "Finished 1340\n",
      "Finished 1350\n",
      "Finished 1360\n",
      "Finished 1370\n",
      "Finished 1380\n",
      "Finished 1390\n",
      "Finished 1400\n",
      "Finished 1410\n",
      "Finished 1420\n",
      "Finished 1430\n",
      "Finished 1440\n",
      "Finished 1450\n",
      "Finished 1460\n",
      "Finished 1470\n",
      "Finished 1480\n",
      "Finished 1490\n",
      "Finished 1500\n",
      "Finished 1510\n",
      "Finished 1520\n",
      "Finished 1530\n",
      "Finished 1540\n",
      "Finished 1550\n",
      "Finished 1560\n",
      "Finished 1570\n",
      "Finished 1580\n",
      "Finished 1590\n",
      "Finished 1600\n",
      "Finished 1610\n",
      "Request failed: (\"bad handshake: SysCallError(10054, 'WSAECONNRESET')\",) {'format': 'xml', 'court': 335, 'extractCaseType': 'CV', 'fdate': '06/01/2008', 'tdate': '06/30/2008', 'extract': 3, 'casetype': 'EV'}\n",
      "Request failed: (\"bad handshake: SysCallError(10054, 'WSAECONNRESET')\",) {'format': 'xml', 'court': 330, 'extractCaseType': 'CV', 'fdate': '06/01/2008', 'tdate': '06/30/2008', 'extract': 3, 'casetype': 'EV'}\n",
      "Request failed: (\"bad handshake: SysCallError(10054, 'WSAECONNRESET')\",) {'format': 'xml', 'court': 325, 'extractCaseType': 'CV', 'fdate': '06/01/2008', 'tdate': '06/30/2008', 'extract': 3, 'casetype': 'EV'}\n",
      "Request failed: (\"bad handshake: SysCallError(10054, 'WSAECONNRESET')\",) {'format': 'xml', 'court': 320, 'extractCaseType': 'CV', 'fdate': '06/01/2008', 'tdate': '06/30/2008', 'extract': 3, 'casetype': 'EV'}\n",
      "Request failed: (\"bad handshake: SysCallError(10054, 'WSAECONNRESET')\",) {'format': 'xml', 'court': 315, 'extractCaseType': 'CV', 'fdate': '06/01/2008', 'tdate': '06/30/2008', 'extract': 3, 'casetype': 'EV'}\n",
      "Request failed: (\"bad handshake: SysCallError(10054, 'WSAECONNRESET')\",) {'format': 'xml', 'court': 310, 'extractCaseType': 'CV', 'fdate': '06/01/2008', 'tdate': '06/30/2008', 'extract': 3, 'casetype': 'EV'}\n",
      "Request failed: (\"bad handshake: SysCallError(10054, 'WSAECONNRESET')\",) {'format': 'xml', 'court': 305, 'extractCaseType': 'CV', 'fdate': '06/01/2008', 'tdate': '06/30/2008', 'extract': 3, 'casetype': 'EV'}\n",
      "Request failed: (\"bad handshake: SysCallError(10054, 'WSAECONNRESET')\",) {'format': 'xml', 'court': 380, 'extractCaseType': 'CV', 'fdate': '05/01/2008', 'tdate': '05/31/2008', 'extract': 3, 'casetype': 'EV'}\n",
      "Request failed: (\"bad handshake: SysCallError(10054, 'WSAECONNRESET')\",) {'format': 'xml', 'court': 375, 'extractCaseType': 'CV', 'fdate': '05/01/2008', 'tdate': '05/31/2008', 'extract': 3, 'casetype': 'EV'}\n",
      "Finished 1620\n",
      "Finished 1630\n",
      "Finished 1640\n",
      "Finished 1650\n",
      "Finished 1660\n",
      "Finished 1670\n",
      "Finished 1680\n",
      "Finished 1690\n",
      "Finished 1700\n",
      "Finished 1710\n",
      "Finished 1720\n",
      "Finished 1730\n",
      "Finished 1740\n",
      "Finished 1750\n",
      "Finished 1760\n",
      "Finished 1770\n"
     ]
    },
    {
     "name": "stdout",
     "output_type": "stream",
     "text": [
      "Finished 1780\n",
      "Finished 1790\n",
      "Finished 1800\n",
      "Finished 1810\n",
      "Finished 1820\n",
      "Finished 1830\n",
      "Finished 1840\n",
      "Finished 1850\n",
      "Finished 1860\n",
      "Finished 1870\n",
      "Finished 1880\n",
      "Finished 1890\n",
      "Finished 1900\n",
      "Finished 1910\n",
      "Finished 1920\n",
      "Finished 1930\n",
      "Finished 1940\n",
      "Finished 1950\n",
      "Finished 1960\n",
      "Finished 1970\n",
      "Finished 1980\n",
      "Finished 1990\n",
      "Request failed: (\"bad handshake: SysCallError(10054, 'WSAECONNRESET')\",) {'format': 'xml', 'court': 380, 'extractCaseType': 'CV', 'fdate': '07/01/2015', 'tdate': '07/31/2015', 'extract': 3, 'casetype': 'EV'}\n",
      "Request failed: (\"bad handshake: SysCallError(10054, 'WSAECONNRESET')\",) {'format': 'xml', 'court': 370, 'extractCaseType': 'CV', 'fdate': '07/01/2015', 'tdate': '07/31/2015', 'extract': 3, 'casetype': 'EV'}\n",
      "Request failed: (\"bad handshake: SysCallError(10054, 'WSAECONNRESET')\",) {'format': 'xml', 'court': 315, 'extractCaseType': 'CV', 'fdate': '08/01/2015', 'tdate': '08/31/2015', 'extract': 3, 'casetype': 'EV'}\n",
      "Request failed: (\"bad handshake: SysCallError(10054, 'WSAECONNRESET')\",) {'format': 'xml', 'court': 365, 'extractCaseType': 'CV', 'fdate': '07/01/2015', 'tdate': '07/31/2015', 'extract': 3, 'casetype': 'EV'}\n",
      "Request failed: (\"bad handshake: SysCallError(10054, 'WSAECONNRESET')\",) {'format': 'xml', 'court': 305, 'extractCaseType': 'CV', 'fdate': '08/01/2015', 'tdate': '08/31/2015', 'extract': 3, 'casetype': 'EV'}\n",
      "\n",
      "\n",
      "*** Retrying 33 bad requests\n",
      "Finished 2000\n",
      "Request failed: (\"bad handshake: SysCallError(10054, 'WSAECONNRESET')\",) {'format': 'xml', 'court': 305, 'extractCaseType': 'CV', 'fdate': '01/01/2007', 'tdate': '01/31/2007', 'extract': 3, 'casetype': 'EV'}\n",
      "Request failed: (\"bad handshake: SysCallError(10054, 'WSAECONNRESET')\",) {'format': 'xml', 'court': 310, 'extractCaseType': 'CV', 'fdate': '01/01/2007', 'tdate': '01/31/2007', 'extract': 3, 'casetype': 'EV'}\n",
      "Request failed: (\"bad handshake: SysCallError(10054, 'WSAECONNRESET')\",) {'format': 'xml', 'court': 315, 'extractCaseType': 'CV', 'fdate': '01/01/2007', 'tdate': '01/31/2007', 'extract': 3, 'casetype': 'EV'}\n",
      "Request failed: (\"bad handshake: SysCallError(10054, 'WSAECONNRESET')\",) {'format': 'xml', 'court': 325, 'extractCaseType': 'CV', 'fdate': '01/01/2007', 'tdate': '01/31/2007', 'extract': 3, 'casetype': 'EV'}\n",
      "Request failed: (\"bad handshake: SysCallError(10054, 'WSAECONNRESET')\",) {'format': 'xml', 'court': 330, 'extractCaseType': 'CV', 'fdate': '01/01/2007', 'tdate': '01/31/2007', 'extract': 3, 'casetype': 'EV'}\n",
      "Request failed: (\"bad handshake: SysCallError(10054, 'WSAECONNRESET')\",) {'format': 'xml', 'court': 335, 'extractCaseType': 'CV', 'fdate': '01/01/2007', 'tdate': '01/31/2007', 'extract': 3, 'casetype': 'EV'}\n",
      "Request failed: (\"bad handshake: SysCallError(10054, 'WSAECONNRESET')\",) {'format': 'xml', 'court': 340, 'extractCaseType': 'CV', 'fdate': '01/01/2007', 'tdate': '01/31/2007', 'extract': 3, 'casetype': 'EV'}\n",
      "Request failed: (\"bad handshake: SysCallError(10054, 'WSAECONNRESET')\",) {'format': 'xml', 'court': 345, 'extractCaseType': 'CV', 'fdate': '01/01/2007', 'tdate': '01/31/2007', 'extract': 3, 'casetype': 'EV'}\n",
      "Request failed: (\"bad handshake: SysCallError(10054, 'WSAECONNRESET')\",) {'format': 'xml', 'court': 315, 'extractCaseType': 'CV', 'fdate': '02/01/2007', 'tdate': '02/28/2007', 'extract': 3, 'casetype': 'EV'}\n",
      "Request failed: (\"bad handshake: SysCallError(10054, 'WSAECONNRESET')\",) {'format': 'xml', 'court': 370, 'extractCaseType': 'CV', 'fdate': '01/01/2007', 'tdate': '01/31/2007', 'extract': 3, 'casetype': 'EV'}\n",
      "Request failed: (\"bad handshake: SysCallError(10054, 'WSAECONNRESET')\",) {'format': 'xml', 'court': 380, 'extractCaseType': 'CV', 'fdate': '01/01/2007', 'tdate': '01/31/2007', 'extract': 3, 'casetype': 'EV'}\n",
      "Request failed: (\"bad handshake: SysCallError(10054, 'WSAECONNRESET')\",) {'format': 'xml', 'court': 310, 'extractCaseType': 'CV', 'fdate': '02/01/2007', 'tdate': '02/28/2007', 'extract': 3, 'casetype': 'EV'}\n",
      "Request failed: (\"bad handshake: SysCallError(10054, 'WSAECONNRESET')\",) {'format': 'xml', 'court': 320, 'extractCaseType': 'CV', 'fdate': '02/01/2007', 'tdate': '02/28/2007', 'extract': 3, 'casetype': 'EV'}\n",
      "Request failed: (\"bad handshake: SysCallError(10054, 'WSAECONNRESET')\",) {'format': 'xml', 'court': 375, 'extractCaseType': 'CV', 'fdate': '01/01/2007', 'tdate': '01/31/2007', 'extract': 3, 'casetype': 'EV'}\n",
      "Request failed: (\"bad handshake: SysCallError(10054, 'WSAECONNRESET')\",) {'format': 'xml', 'court': 305, 'extractCaseType': 'CV', 'fdate': '02/01/2007', 'tdate': '02/28/2007', 'extract': 3, 'casetype': 'EV'}\n",
      "Request failed: (\"bad handshake: SysCallError(10054, 'WSAECONNRESET')\",) {'format': 'xml', 'court': 365, 'extractCaseType': 'CV', 'fdate': '01/01/2007', 'tdate': '01/31/2007', 'extract': 3, 'casetype': 'EV'}\n",
      "Request failed: (\"bad handshake: SysCallError(10054, 'WSAECONNRESET')\",) {'format': 'xml', 'court': 360, 'extractCaseType': 'CV', 'fdate': '01/01/2007', 'tdate': '01/31/2007', 'extract': 3, 'casetype': 'EV'}\n",
      "Request failed: (\"bad handshake: SysCallError(10054, 'WSAECONNRESET')\",) {'format': 'xml', 'court': 350, 'extractCaseType': 'CV', 'fdate': '01/01/2007', 'tdate': '01/31/2007', 'extract': 3, 'casetype': 'EV'}\n",
      "Request failed: (\"bad handshake: SysCallError(10054, 'WSAECONNRESET')\",) {'format': 'xml', 'court': 315, 'extractCaseType': 'CV', 'fdate': '08/01/2015', 'tdate': '08/31/2015', 'extract': 3, 'casetype': 'EV'}\n",
      "Request failed: (\"bad handshake: SysCallError(10054, 'WSAECONNRESET')\",) {'format': 'xml', 'court': 370, 'extractCaseType': 'CV', 'fdate': '07/01/2015', 'tdate': '07/31/2015', 'extract': 3, 'casetype': 'EV'}\n",
      "Request failed: (\"bad handshake: SysCallError(10054, 'WSAECONNRESET')\",) {'format': 'xml', 'court': 380, 'extractCaseType': 'CV', 'fdate': '07/01/2015', 'tdate': '07/31/2015', 'extract': 3, 'casetype': 'EV'}\n",
      "Request failed: (\"bad handshake: SysCallError(10054, 'WSAECONNRESET')\",) {'format': 'xml', 'court': 375, 'extractCaseType': 'CV', 'fdate': '05/01/2008', 'tdate': '05/31/2008', 'extract': 3, 'casetype': 'EV'}\n",
      "Request failed: (\"bad handshake: SysCallError(10054, 'WSAECONNRESET')\",) {'format': 'xml', 'court': 380, 'extractCaseType': 'CV', 'fdate': '05/01/2008', 'tdate': '05/31/2008', 'extract': 3, 'casetype': 'EV'}\n",
      "Request failed: (\"bad handshake: SysCallError(10054, 'WSAECONNRESET')\",) {'format': 'xml', 'court': 305, 'extractCaseType': 'CV', 'fdate': '06/01/2008', 'tdate': '06/30/2008', 'extract': 3, 'casetype': 'EV'}\n",
      "Request failed: (\"bad handshake: SysCallError(10054, 'WSAECONNRESET')\",) {'format': 'xml', 'court': 315, 'extractCaseType': 'CV', 'fdate': '06/01/2008', 'tdate': '06/30/2008', 'extract': 3, 'casetype': 'EV'}\n",
      "Request failed: (\"bad handshake: SysCallError(10054, 'WSAECONNRESET')\",) {'format': 'xml', 'court': 320, 'extractCaseType': 'CV', 'fdate': '06/01/2008', 'tdate': '06/30/2008', 'extract': 3, 'casetype': 'EV'}\n",
      "Request failed: (\"bad handshake: SysCallError(10054, 'WSAECONNRESET')\",) {'format': 'xml', 'court': 325, 'extractCaseType': 'CV', 'fdate': '06/01/2008', 'tdate': '06/30/2008', 'extract': 3, 'casetype': 'EV'}\n",
      "Request failed: (\"bad handshake: SysCallError(10054, 'WSAECONNRESET')\",) {'format': 'xml', 'court': 330, 'extractCaseType': 'CV', 'fdate': '06/01/2008', 'tdate': '06/30/2008', 'extract': 3, 'casetype': 'EV'}\n",
      "\n",
      "\n",
      "*** Retrying 28 bad requests\n",
      "Request failed: (\"bad handshake: SysCallError(10054, 'WSAECONNRESET')\",) {'format': 'xml', 'court': 325, 'extractCaseType': 'CV', 'fdate': '01/01/2007', 'tdate': '01/31/2007', 'extract': 3, 'casetype': 'EV'}\n",
      "Request failed: (\"bad handshake: SysCallError(10054, 'WSAECONNRESET')\",) {'format': 'xml', 'court': 330, 'extractCaseType': 'CV', 'fdate': '01/01/2007', 'tdate': '01/31/2007', 'extract': 3, 'casetype': 'EV'}\n",
      "Request failed: (\"bad handshake: SysCallError(10054, 'WSAECONNRESET')\",) {'format': 'xml', 'court': 335, 'extractCaseType': 'CV', 'fdate': '01/01/2007', 'tdate': '01/31/2007', 'extract': 3, 'casetype': 'EV'}\n",
      "Request failed: (\"bad handshake: SysCallError(10054, 'WSAECONNRESET')\",) {'format': 'xml', 'court': 340, 'extractCaseType': 'CV', 'fdate': '01/01/2007', 'tdate': '01/31/2007', 'extract': 3, 'casetype': 'EV'}\n",
      "Request failed: (\"bad handshake: SysCallError(10054, 'WSAECONNRESET')\",) {'format': 'xml', 'court': 345, 'extractCaseType': 'CV', 'fdate': '01/01/2007', 'tdate': '01/31/2007', 'extract': 3, 'casetype': 'EV'}\n",
      "Request failed: (\"bad handshake: SysCallError(10054, 'WSAECONNRESET')\",) {'format': 'xml', 'court': 315, 'extractCaseType': 'CV', 'fdate': '02/01/2007', 'tdate': '02/28/2007', 'extract': 3, 'casetype': 'EV'}\n",
      "Request failed: (\"bad handshake: SysCallError(10054, 'WSAECONNRESET')\",) {'format': 'xml', 'court': 370, 'extractCaseType': 'CV', 'fdate': '01/01/2007', 'tdate': '01/31/2007', 'extract': 3, 'casetype': 'EV'}\n",
      "Request failed: (\"bad handshake: SysCallError(10054, 'WSAECONNRESET')\",) {'format': 'xml', 'court': 380, 'extractCaseType': 'CV', 'fdate': '01/01/2007', 'tdate': '01/31/2007', 'extract': 3, 'casetype': 'EV'}\n",
      "Request failed: (\"bad handshake: SysCallError(10054, 'WSAECONNRESET')\",) {'format': 'xml', 'court': 310, 'extractCaseType': 'CV', 'fdate': '02/01/2007', 'tdate': '02/28/2007', 'extract': 3, 'casetype': 'EV'}\n",
      "Request failed: (\"bad handshake: SysCallError(10054, 'WSAECONNRESET')\",) {'format': 'xml', 'court': 320, 'extractCaseType': 'CV', 'fdate': '02/01/2007', 'tdate': '02/28/2007', 'extract': 3, 'casetype': 'EV'}\n",
      "Request failed: (\"bad handshake: SysCallError(10054, 'WSAECONNRESET')\",) {'format': 'xml', 'court': 375, 'extractCaseType': 'CV', 'fdate': '01/01/2007', 'tdate': '01/31/2007', 'extract': 3, 'casetype': 'EV'}\n",
      "Request failed: (\"bad handshake: SysCallError(10054, 'WSAECONNRESET')\",) {'format': 'xml', 'court': 305, 'extractCaseType': 'CV', 'fdate': '02/01/2007', 'tdate': '02/28/2007', 'extract': 3, 'casetype': 'EV'}\n",
      "Request failed: (\"bad handshake: SysCallError(10054, 'WSAECONNRESET')\",) {'format': 'xml', 'court': 365, 'extractCaseType': 'CV', 'fdate': '01/01/2007', 'tdate': '01/31/2007', 'extract': 3, 'casetype': 'EV'}\n",
      "Request failed: (\"bad handshake: SysCallError(10054, 'WSAECONNRESET')\",) {'format': 'xml', 'court': 360, 'extractCaseType': 'CV', 'fdate': '01/01/2007', 'tdate': '01/31/2007', 'extract': 3, 'casetype': 'EV'}\n",
      "Request failed: (\"bad handshake: SysCallError(10054, 'WSAECONNRESET')\",) {'format': 'xml', 'court': 350, 'extractCaseType': 'CV', 'fdate': '01/01/2007', 'tdate': '01/31/2007', 'extract': 3, 'casetype': 'EV'}\n",
      "Request failed: (\"bad handshake: SysCallError(10054, 'WSAECONNRESET')\",) {'format': 'xml', 'court': 370, 'extractCaseType': 'CV', 'fdate': '07/01/2015', 'tdate': '07/31/2015', 'extract': 3, 'casetype': 'EV'}\n",
      "Request failed: (\"bad handshake: SysCallError(10054, 'WSAECONNRESET')\",) {'format': 'xml', 'court': 315, 'extractCaseType': 'CV', 'fdate': '08/01/2015', 'tdate': '08/31/2015', 'extract': 3, 'casetype': 'EV'}\n"
     ]
    },
    {
     "name": "stdout",
     "output_type": "stream",
     "text": [
      "Finished 2010\n",
      "Request failed: (\"bad handshake: SysCallError(10054, 'WSAECONNRESET')\",) {'format': 'xml', 'court': 305, 'extractCaseType': 'CV', 'fdate': '06/01/2008', 'tdate': '06/30/2008', 'extract': 3, 'casetype': 'EV'}\n",
      "Request failed: (\"bad handshake: SysCallError(10054, 'WSAECONNRESET')\",) {'format': 'xml', 'court': 320, 'extractCaseType': 'CV', 'fdate': '06/01/2008', 'tdate': '06/30/2008', 'extract': 3, 'casetype': 'EV'}\n",
      "Request failed: (\"bad handshake: SysCallError(10054, 'WSAECONNRESET')\",) {'format': 'xml', 'court': 375, 'extractCaseType': 'CV', 'fdate': '05/01/2008', 'tdate': '05/31/2008', 'extract': 3, 'casetype': 'EV'}\n",
      "\n",
      "\n",
      "*** Retrying 20 bad requests\n",
      "Request failed: (\"bad handshake: SysCallError(10054, 'WSAECONNRESET')\",) {'format': 'xml', 'court': 340, 'extractCaseType': 'CV', 'fdate': '01/01/2007', 'tdate': '01/31/2007', 'extract': 3, 'casetype': 'EV'}\n",
      "Request failed: (\"bad handshake: SysCallError(10054, 'WSAECONNRESET')\",) {'format': 'xml', 'court': 325, 'extractCaseType': 'CV', 'fdate': '01/01/2007', 'tdate': '01/31/2007', 'extract': 3, 'casetype': 'EV'}\n",
      "Request failed: (\"bad handshake: SysCallError(10054, 'WSAECONNRESET')\",) {'format': 'xml', 'court': 335, 'extractCaseType': 'CV', 'fdate': '01/01/2007', 'tdate': '01/31/2007', 'extract': 3, 'casetype': 'EV'}\n",
      "Request failed: (\"bad handshake: SysCallError(10054, 'WSAECONNRESET')\",) {'format': 'xml', 'court': 315, 'extractCaseType': 'CV', 'fdate': '08/01/2015', 'tdate': '08/31/2015', 'extract': 3, 'casetype': 'EV'}\n",
      "Request failed: (\"bad handshake: SysCallError(10054, 'WSAECONNRESET')\",) {'format': 'xml', 'court': 370, 'extractCaseType': 'CV', 'fdate': '07/01/2015', 'tdate': '07/31/2015', 'extract': 3, 'casetype': 'EV'}\n",
      "Request failed: (\"bad handshake: SysCallError(10054, 'WSAECONNRESET')\",) {'format': 'xml', 'court': 370, 'extractCaseType': 'CV', 'fdate': '01/01/2007', 'tdate': '01/31/2007', 'extract': 3, 'casetype': 'EV'}\n",
      "Request failed: (\"bad handshake: SysCallError(10054, 'WSAECONNRESET')\",) {'format': 'xml', 'court': 345, 'extractCaseType': 'CV', 'fdate': '01/01/2007', 'tdate': '01/31/2007', 'extract': 3, 'casetype': 'EV'}\n",
      "Request failed: (\"bad handshake: SysCallError(10054, 'WSAECONNRESET')\",) {'format': 'xml', 'court': 315, 'extractCaseType': 'CV', 'fdate': '02/01/2007', 'tdate': '02/28/2007', 'extract': 3, 'casetype': 'EV'}\n",
      "Request failed: (\"bad handshake: SysCallError(10054, 'WSAECONNRESET')\",) {'format': 'xml', 'court': 375, 'extractCaseType': 'CV', 'fdate': '01/01/2007', 'tdate': '01/31/2007', 'extract': 3, 'casetype': 'EV'}\n",
      "Request failed: (\"bad handshake: SysCallError(10054, 'WSAECONNRESET')\",) {'format': 'xml', 'court': 380, 'extractCaseType': 'CV', 'fdate': '01/01/2007', 'tdate': '01/31/2007', 'extract': 3, 'casetype': 'EV'}\n",
      "Request failed: (\"bad handshake: SysCallError(10054, 'WSAECONNRESET')\",) {'format': 'xml', 'court': 305, 'extractCaseType': 'CV', 'fdate': '02/01/2007', 'tdate': '02/28/2007', 'extract': 3, 'casetype': 'EV'}\n",
      "Request failed: (\"bad handshake: SysCallError(10054, 'WSAECONNRESET')\",) {'format': 'xml', 'court': 310, 'extractCaseType': 'CV', 'fdate': '02/01/2007', 'tdate': '02/28/2007', 'extract': 3, 'casetype': 'EV'}\n",
      "Request failed: (\"bad handshake: SysCallError(10054, 'WSAECONNRESET')\",) {'format': 'xml', 'court': 360, 'extractCaseType': 'CV', 'fdate': '01/01/2007', 'tdate': '01/31/2007', 'extract': 3, 'casetype': 'EV'}\n",
      "Request failed: (\"bad handshake: SysCallError(10054, 'WSAECONNRESET')\",) {'format': 'xml', 'court': 320, 'extractCaseType': 'CV', 'fdate': '02/01/2007', 'tdate': '02/28/2007', 'extract': 3, 'casetype': 'EV'}\n",
      "Request failed: (\"bad handshake: SysCallError(10054, 'WSAECONNRESET')\",) {'format': 'xml', 'court': 350, 'extractCaseType': 'CV', 'fdate': '01/01/2007', 'tdate': '01/31/2007', 'extract': 3, 'casetype': 'EV'}\n",
      "\n",
      "\n",
      "*** Retrying 15 bad requests\n",
      "Finished 2020\n",
      "Request failed: (\"bad handshake: SysCallError(10054, 'WSAECONNRESET')\",) {'format': 'xml', 'court': 360, 'extractCaseType': 'CV', 'fdate': '01/01/2007', 'tdate': '01/31/2007', 'extract': 3, 'casetype': 'EV'}\n",
      "Request failed: (\"bad handshake: SysCallError(10054, 'WSAECONNRESET')\",) {'format': 'xml', 'court': 310, 'extractCaseType': 'CV', 'fdate': '02/01/2007', 'tdate': '02/28/2007', 'extract': 3, 'casetype': 'EV'}\n",
      "Request failed: (\"bad handshake: SysCallError(10054, 'WSAECONNRESET')\",) {'format': 'xml', 'court': 305, 'extractCaseType': 'CV', 'fdate': '02/01/2007', 'tdate': '02/28/2007', 'extract': 3, 'casetype': 'EV'}\n",
      "Request failed: (\"bad handshake: SysCallError(10054, 'WSAECONNRESET')\",) {'format': 'xml', 'court': 380, 'extractCaseType': 'CV', 'fdate': '01/01/2007', 'tdate': '01/31/2007', 'extract': 3, 'casetype': 'EV'}\n",
      "Request failed: (\"bad handshake: SysCallError(10054, 'WSAECONNRESET')\",) {'format': 'xml', 'court': 375, 'extractCaseType': 'CV', 'fdate': '01/01/2007', 'tdate': '01/31/2007', 'extract': 3, 'casetype': 'EV'}\n",
      "Request failed: (\"bad handshake: SysCallError(10054, 'WSAECONNRESET')\",) {'format': 'xml', 'court': 315, 'extractCaseType': 'CV', 'fdate': '02/01/2007', 'tdate': '02/28/2007', 'extract': 3, 'casetype': 'EV'}\n",
      "Request failed: (\"bad handshake: SysCallError(10054, 'WSAECONNRESET')\",) {'format': 'xml', 'court': 345, 'extractCaseType': 'CV', 'fdate': '01/01/2007', 'tdate': '01/31/2007', 'extract': 3, 'casetype': 'EV'}\n",
      "Request failed: (\"bad handshake: SysCallError(10054, 'WSAECONNRESET')\",) {'format': 'xml', 'court': 335, 'extractCaseType': 'CV', 'fdate': '01/01/2007', 'tdate': '01/31/2007', 'extract': 3, 'casetype': 'EV'}\n",
      "Request failed: (\"bad handshake: SysCallError(10054, 'WSAECONNRESET')\",) {'format': 'xml', 'court': 325, 'extractCaseType': 'CV', 'fdate': '01/01/2007', 'tdate': '01/31/2007', 'extract': 3, 'casetype': 'EV'}\n",
      "Request failed: (\"bad handshake: SysCallError(10054, 'WSAECONNRESET')\",) {'format': 'xml', 'court': 315, 'extractCaseType': 'CV', 'fdate': '08/01/2015', 'tdate': '08/31/2015', 'extract': 3, 'casetype': 'EV'}\n",
      "Request failed: (\"bad handshake: SysCallError(10054, 'WSAECONNRESET')\",) {'format': 'xml', 'court': 340, 'extractCaseType': 'CV', 'fdate': '01/01/2007', 'tdate': '01/31/2007', 'extract': 3, 'casetype': 'EV'}\n",
      "Request failed: (\"bad handshake: SysCallError(10054, 'WSAECONNRESET')\",) {'format': 'xml', 'court': 370, 'extractCaseType': 'CV', 'fdate': '07/01/2015', 'tdate': '07/31/2015', 'extract': 3, 'casetype': 'EV'}\n",
      "\n",
      "\n",
      "*** Retrying 12 bad requests\n",
      "Request failed: (\"bad handshake: SysCallError(10054, 'WSAECONNRESET')\",) {'format': 'xml', 'court': 335, 'extractCaseType': 'CV', 'fdate': '01/01/2007', 'tdate': '01/31/2007', 'extract': 3, 'casetype': 'EV'}\n",
      "Request failed: (\"bad handshake: SysCallError(10054, 'WSAECONNRESET')\",) {'format': 'xml', 'court': 340, 'extractCaseType': 'CV', 'fdate': '01/01/2007', 'tdate': '01/31/2007', 'extract': 3, 'casetype': 'EV'}\n",
      "Request failed: (\"bad handshake: SysCallError(10054, 'WSAECONNRESET')\",) {'format': 'xml', 'court': 345, 'extractCaseType': 'CV', 'fdate': '01/01/2007', 'tdate': '01/31/2007', 'extract': 3, 'casetype': 'EV'}\n",
      "Request failed: (\"bad handshake: SysCallError(10054, 'WSAECONNRESET')\",) {'format': 'xml', 'court': 315, 'extractCaseType': 'CV', 'fdate': '08/01/2015', 'tdate': '08/31/2015', 'extract': 3, 'casetype': 'EV'}\n",
      "Request failed: (\"bad handshake: SysCallError(10054, 'WSAECONNRESET')\",) {'format': 'xml', 'court': 315, 'extractCaseType': 'CV', 'fdate': '02/01/2007', 'tdate': '02/28/2007', 'extract': 3, 'casetype': 'EV'}\n",
      "Request failed: (\"bad handshake: SysCallError(10054, 'WSAECONNRESET')\",) {'format': 'xml', 'court': 325, 'extractCaseType': 'CV', 'fdate': '01/01/2007', 'tdate': '01/31/2007', 'extract': 3, 'casetype': 'EV'}\n",
      "Request failed: (\"bad handshake: SysCallError(10054, 'WSAECONNRESET')\",) {'format': 'xml', 'court': 375, 'extractCaseType': 'CV', 'fdate': '01/01/2007', 'tdate': '01/31/2007', 'extract': 3, 'casetype': 'EV'}\n",
      "\n",
      "\n",
      "*** Retrying 7 bad requests\n",
      "Request failed: (\"bad handshake: SysCallError(10054, 'WSAECONNRESET')\",) {'format': 'xml', 'court': 335, 'extractCaseType': 'CV', 'fdate': '01/01/2007', 'tdate': '01/31/2007', 'extract': 3, 'casetype': 'EV'}\n",
      "Request failed: (\"bad handshake: SysCallError(10054, 'WSAECONNRESET')\",) {'format': 'xml', 'court': 345, 'extractCaseType': 'CV', 'fdate': '01/01/2007', 'tdate': '01/31/2007', 'extract': 3, 'casetype': 'EV'}\n",
      "Request failed: (\"bad handshake: SysCallError(10054, 'WSAECONNRESET')\",) {'format': 'xml', 'court': 315, 'extractCaseType': 'CV', 'fdate': '08/01/2015', 'tdate': '08/31/2015', 'extract': 3, 'casetype': 'EV'}\n",
      "Request failed: (\"bad handshake: SysCallError(10054, 'WSAECONNRESET')\",) {'format': 'xml', 'court': 325, 'extractCaseType': 'CV', 'fdate': '01/01/2007', 'tdate': '01/31/2007', 'extract': 3, 'casetype': 'EV'}\n",
      "\n",
      "\n",
      "*** Retrying 4 bad requests\n"
     ]
    },
    {
     "name": "stdout",
     "output_type": "stream",
     "text": [
      "Finished 2030\n",
      "Request failed: (\"bad handshake: SysCallError(10054, 'WSAECONNRESET')\",) {'format': 'xml', 'court': 345, 'extractCaseType': 'CV', 'fdate': '01/01/2007', 'tdate': '01/31/2007', 'extract': 3, 'casetype': 'EV'}\n",
      "\n",
      "\n",
      "*** Retrying 1 bad requests\n",
      "\n",
      "\n",
      "*** Retrying 0 bad requests\n",
      "Wall time: 2h 8min 59s\n"
     ]
    }
   ],
   "source": [
    "%%time\n",
    "template = 'orig_xml/orig_court_{court}-{fromdate}.{format}'\n",
    "scrape(start=datetime.date(2007,1,1), size=20, template=template, format='xml')"
   ]
  },
  {
   "cell_type": "code",
   "execution_count": 85,
   "metadata": {},
   "outputs": [
    {
     "name": "stdout",
     "output_type": "stream",
     "text": [
      "Wall time: 38.3 s\n"
     ]
    }
   ],
   "source": [
    "%%time\n",
    "import lxml.etree as etree\n",
    "from collections import defaultdict\n",
    "data = defaultdict(list)\n",
    "cols = []\n",
    "for fn in glob.glob('orig_xml/*xml'):\n",
    "    try:\n",
    "        doc = etree.parse(fn)\n",
    "        for row in doc.getroot():\n",
    "            if not cols:\n",
    "                for elt in row:\n",
    "                    cols.append(elt.tag)\n",
    "            for elt in row:\n",
    "                data[elt.tag].append(elt.text)\n",
    "    except etree.XMLSyntaxError as e:\n",
    "        pass"
   ]
  },
  {
   "cell_type": "code",
   "execution_count": 86,
   "metadata": {},
   "outputs": [],
   "source": [
    "df = pd.DataFrame(data, columns=cols)"
   ]
  },
  {
   "cell_type": "code",
   "execution_count": 87,
   "metadata": {
    "collapsed": true
   },
   "outputs": [],
   "source": [
    "df.to_csv('evictions-20170630.csv')"
   ]
  }
 ],
 "metadata": {
  "anaconda-cloud": {},
  "kernelspec": {
   "display_name": "Python [default]",
   "language": "python",
   "name": "python3"
  },
  "language_info": {
   "codemirror_mode": {
    "name": "ipython",
    "version": 3
   },
   "file_extension": ".py",
   "mimetype": "text/x-python",
   "name": "python",
   "nbconvert_exporter": "python",
   "pygments_lexer": "ipython3",
   "version": "3.5.3"
  }
 },
 "nbformat": 4,
 "nbformat_minor": 2
}
